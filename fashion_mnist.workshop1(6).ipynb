{
  "nbformat": 4,
  "nbformat_minor": 0,
  "metadata": {
    "colab": {
      "name": "fashion_mnist.ipynb",
      "provenance": [],
      "collapsed_sections": []
    },
    "kernelspec": {
      "name": "python3",
      "display_name": "Python 3"
    },
    "language_info": {
      "name": "python"
    }
  },
  "cells": [
    {
      "cell_type": "markdown",
      "source": [
        "Question 6"
      ],
      "metadata": {
        "id": "8YmqSNmYe7N8"
      }
    },
    {
      "cell_type": "code",
      "execution_count": null,
      "metadata": {
        "id": "eaA1gPOAYyYD"
      },
      "outputs": [],
      "source": [
        "import tensorflow as tf\n",
        "import numpy as np\n",
        "import matplotlib.pyplot as plt\n",
        "from tensorflow.keras.layers import *\n",
        "from tensorflow.keras.regularizers import L2\n",
        "import pandas as pd"
      ]
    },
    {
      "cell_type": "code",
      "source": [
        "(train_val_data, train_val_labels),(test_data, test_labels) = tf.keras.datasets.fashion_mnist.load_data()"
      ],
      "metadata": {
        "id": "hE8kPyrRY-Ah"
      },
      "execution_count": null,
      "outputs": []
    },
    {
      "cell_type": "code",
      "source": [
        "train_val_data.shape, train_val_labels.shape, test_data.shape, test_labels.shape"
      ],
      "metadata": {
        "colab": {
          "base_uri": "https://localhost:8080/"
        },
        "id": "A_7m1BPwZQk4",
        "outputId": "5caf6ae6-6fcb-4cae-9825-91ed628d29f6"
      },
      "execution_count": null,
      "outputs": [
        {
          "output_type": "execute_result",
          "data": {
            "text/plain": [
              "((60000, 28, 28), (60000,), (10000, 28, 28), (10000,))"
            ]
          },
          "metadata": {},
          "execution_count": 3
        }
      ]
    },
    {
      "cell_type": "code",
      "source": [
        "train_val_data.dtype, train_val_labels.dtype, test_data.dtype, test_labels.dtype"
      ],
      "metadata": {
        "colab": {
          "base_uri": "https://localhost:8080/"
        },
        "id": "DTv0BPxmZeDx",
        "outputId": "3344d206-ec99-4f3a-8c2d-071825110a14"
      },
      "execution_count": null,
      "outputs": [
        {
          "output_type": "execute_result",
          "data": {
            "text/plain": [
              "(dtype('uint8'), dtype('uint8'), dtype('uint8'), dtype('uint8'))"
            ]
          },
          "metadata": {},
          "execution_count": 4
        }
      ]
    },
    {
      "cell_type": "code",
      "source": [
        "train_val_data = np.reshape(train_val_data,(-1,28*28))\n",
        "test_data = np.reshape(test_data,(-1,28*28))"
      ],
      "metadata": {
        "id": "1ki-byZ2Zmk5"
      },
      "execution_count": null,
      "outputs": []
    },
    {
      "cell_type": "code",
      "source": [
        ""
      ],
      "metadata": {
        "id": "ur1PDrfYWMMx"
      },
      "execution_count": null,
      "outputs": []
    },
    {
      "cell_type": "code",
      "source": [
        "train_val_labels = tf.keras.utils.to_categorical(train_val_labels, num_classes=10)\n",
        "test_labels = tf.keras.utils.to_categorical(test_labels, num_classes=10)"
      ],
      "metadata": {
        "id": "6Yp42X1MhaEl"
      },
      "execution_count": null,
      "outputs": []
    },
    {
      "cell_type": "code",
      "source": [
        "train_val_data.shape, train_val_labels.shape, test_data.shape, test_labels.shape"
      ],
      "metadata": {
        "colab": {
          "base_uri": "https://localhost:8080/"
        },
        "id": "alGKWwDwhW0c",
        "outputId": "91f3a591-c781-4d1c-d416-8864404613a4"
      },
      "execution_count": null,
      "outputs": [
        {
          "output_type": "execute_result",
          "data": {
            "text/plain": [
              "((60000, 784), (60000, 10), (10000, 784), (10000, 10))"
            ]
          },
          "metadata": {},
          "execution_count": 7
        }
      ]
    },
    {
      "cell_type": "code",
      "source": [
        "train_val_data = train_val_data.astype(np.float32)/255.\n",
        "test_data = test_data.astype(np.float32)/255."
      ],
      "metadata": {
        "id": "zG0-U12ii0Rx"
      },
      "execution_count": null,
      "outputs": []
    },
    {
      "cell_type": "code",
      "source": [
        "train_val_data.dtype, train_val_labels.dtype, test_data.dtype, test_labels.dtype"
      ],
      "metadata": {
        "colab": {
          "base_uri": "https://localhost:8080/"
        },
        "id": "GS5GmdGyionR",
        "outputId": "f1008825-9905-46a8-98eb-72a1ba05a649"
      },
      "execution_count": null,
      "outputs": [
        {
          "output_type": "execute_result",
          "data": {
            "text/plain": [
              "(dtype('float32'), dtype('float32'), dtype('float32'), dtype('float32'))"
            ]
          },
          "metadata": {},
          "execution_count": 9
        }
      ]
    },
    {
      "cell_type": "code",
      "source": [
        "train_data = train_val_data[:50000]\n",
        "train_labels = train_val_labels[:50000]\n",
        "val_data = train_val_data[50000:60000]\n",
        "val_labels = train_val_labels[50000:60000]"
      ],
      "metadata": {
        "id": "6XDz9QWrjyiG"
      },
      "execution_count": null,
      "outputs": []
    },
    {
      "cell_type": "code",
      "source": [
        "train_data.shape[1]"
      ],
      "metadata": {
        "colab": {
          "base_uri": "https://localhost:8080/"
        },
        "id": "Te3eHrubuRQa",
        "outputId": "8851879a-5a45-4341-e01e-8d793a56525e"
      },
      "execution_count": null,
      "outputs": [
        {
          "output_type": "execute_result",
          "data": {
            "text/plain": [
              "784"
            ]
          },
          "metadata": {},
          "execution_count": 11
        }
      ]
    },
    {
      "cell_type": "code",
      "source": [
        "#l2 = 0.01\n",
        "input_layer = Input((train_data.shape[1],))\n",
        "x = Dense(units=128, activation='relu')(input_layer)\n",
        "x = Dropout(0.2)(x)\n",
        "x = Dense(units=64, activation='relu')(x)\n",
        "x = BatchNormalization()(x)\n",
        "x = Dense(units=32, activation='relu')(x)\n",
        "x = BatchNormalization()(x)\n",
        "output =Dense(units=10, activation='softmax')(x)\n",
        "\n",
        "classification_model = tf.keras.models.Model(input_layer,output)\n",
        "classification_model.summary()"
      ],
      "metadata": {
        "colab": {
          "base_uri": "https://localhost:8080/"
        },
        "id": "I5lFSESSk6Y5",
        "outputId": "301ecc22-8831-4e79-a936-a615845c8974"
      },
      "execution_count": null,
      "outputs": [
        {
          "output_type": "stream",
          "name": "stdout",
          "text": [
            "Model: \"model\"\n",
            "_________________________________________________________________\n",
            " Layer (type)                Output Shape              Param #   \n",
            "=================================================================\n",
            " input_1 (InputLayer)        [(None, 784)]             0         \n",
            "                                                                 \n",
            " dense (Dense)               (None, 128)               100480    \n",
            "                                                                 \n",
            " dropout (Dropout)           (None, 128)               0         \n",
            "                                                                 \n",
            " dense_1 (Dense)             (None, 64)                8256      \n",
            "                                                                 \n",
            " batch_normalization (BatchN  (None, 64)               256       \n",
            " ormalization)                                                   \n",
            "                                                                 \n",
            " dense_2 (Dense)             (None, 32)                2080      \n",
            "                                                                 \n",
            " batch_normalization_1 (Batc  (None, 32)               128       \n",
            " hNormalization)                                                 \n",
            "                                                                 \n",
            " dense_3 (Dense)             (None, 10)                330       \n",
            "                                                                 \n",
            "=================================================================\n",
            "Total params: 111,530\n",
            "Trainable params: 111,338\n",
            "Non-trainable params: 192\n",
            "_________________________________________________________________\n"
          ]
        }
      ]
    },
    {
      "cell_type": "code",
      "source": [
        "classification_model.compile(optimizer=tf.keras.optimizers.SGD(lr=0.001, momentum=0.9),\n",
        "                             loss='categorical_crossentropy',metrics=['accuracy'])"
      ],
      "metadata": {
        "colab": {
          "base_uri": "https://localhost:8080/"
        },
        "id": "T_47yCWwvgyY",
        "outputId": "d57534e2-5f6f-47ba-a8aa-c7c7aa77f647"
      },
      "execution_count": null,
      "outputs": [
        {
          "output_type": "stream",
          "name": "stderr",
          "text": [
            "/usr/local/lib/python3.7/dist-packages/keras/optimizer_v2/gradient_descent.py:102: UserWarning: The `lr` argument is deprecated, use `learning_rate` instead.\n",
            "  super(SGD, self).__init__(name, **kwargs)\n"
          ]
        }
      ]
    },
    {
      "cell_type": "code",
      "source": [
        "early_stop = tf.keras.callbacks.EarlyStopping(monitor='val_accuracy', patience=5, restore_best_weights=True,\n",
        "                                              mode='max')"
      ],
      "metadata": {
        "id": "bt-_CjfnwSqW"
      },
      "execution_count": null,
      "outputs": []
    },
    {
      "cell_type": "code",
      "source": [
        "classification_model.fit(train_data,train_labels, batch_size=32, epochs=20, \n",
        "                         validation_data=(val_data,val_labels), callbacks=[early_stop])"
      ],
      "metadata": {
        "colab": {
          "base_uri": "https://localhost:8080/"
        },
        "id": "-qbQYtpxwt0V",
        "outputId": "7e42b5db-704d-4d36-8fc0-828a504ae64e"
      },
      "execution_count": null,
      "outputs": [
        {
          "output_type": "stream",
          "name": "stdout",
          "text": [
            "Epoch 1/20\n",
            "1563/1563 [==============================] - 10s 6ms/step - loss: 0.7492 - accuracy: 0.7443 - val_loss: 0.4841 - val_accuracy: 0.8258\n",
            "Epoch 2/20\n",
            "1563/1563 [==============================] - 6s 4ms/step - loss: 0.5215 - accuracy: 0.8156 - val_loss: 0.4290 - val_accuracy: 0.8441\n",
            "Epoch 3/20\n",
            "1563/1563 [==============================] - 6s 4ms/step - loss: 0.4700 - accuracy: 0.8310 - val_loss: 0.3909 - val_accuracy: 0.8592\n",
            "Epoch 4/20\n",
            "1563/1563 [==============================] - 8s 5ms/step - loss: 0.4346 - accuracy: 0.8438 - val_loss: 0.3823 - val_accuracy: 0.8623\n",
            "Epoch 5/20\n",
            "1563/1563 [==============================] - 7s 5ms/step - loss: 0.4109 - accuracy: 0.8520 - val_loss: 0.3661 - val_accuracy: 0.8686\n",
            "Epoch 6/20\n",
            "1563/1563 [==============================] - 6s 4ms/step - loss: 0.3933 - accuracy: 0.8585 - val_loss: 0.3667 - val_accuracy: 0.8668\n",
            "Epoch 7/20\n",
            "1563/1563 [==============================] - 8s 5ms/step - loss: 0.3789 - accuracy: 0.8637 - val_loss: 0.3513 - val_accuracy: 0.8738\n",
            "Epoch 8/20\n",
            "1563/1563 [==============================] - 8s 5ms/step - loss: 0.3737 - accuracy: 0.8643 - val_loss: 0.3489 - val_accuracy: 0.8735\n",
            "Epoch 9/20\n",
            "1563/1563 [==============================] - 8s 5ms/step - loss: 0.3597 - accuracy: 0.8685 - val_loss: 0.3566 - val_accuracy: 0.8696\n",
            "Epoch 10/20\n",
            "1563/1563 [==============================] - 7s 4ms/step - loss: 0.3523 - accuracy: 0.8716 - val_loss: 0.3417 - val_accuracy: 0.8752\n",
            "Epoch 11/20\n",
            "1563/1563 [==============================] - 6s 4ms/step - loss: 0.3446 - accuracy: 0.8739 - val_loss: 0.3387 - val_accuracy: 0.8762\n",
            "Epoch 12/20\n",
            "1563/1563 [==============================] - 6s 4ms/step - loss: 0.3393 - accuracy: 0.8786 - val_loss: 0.3444 - val_accuracy: 0.8786\n",
            "Epoch 13/20\n",
            "1563/1563 [==============================] - 6s 4ms/step - loss: 0.3317 - accuracy: 0.8782 - val_loss: 0.3320 - val_accuracy: 0.8811\n",
            "Epoch 14/20\n",
            "1563/1563 [==============================] - 6s 4ms/step - loss: 0.3223 - accuracy: 0.8815 - val_loss: 0.3263 - val_accuracy: 0.8807\n",
            "Epoch 15/20\n",
            "1563/1563 [==============================] - 6s 4ms/step - loss: 0.3177 - accuracy: 0.8844 - val_loss: 0.3239 - val_accuracy: 0.8817\n",
            "Epoch 16/20\n",
            "1563/1563 [==============================] - 6s 4ms/step - loss: 0.3150 - accuracy: 0.8843 - val_loss: 0.3255 - val_accuracy: 0.8786\n",
            "Epoch 17/20\n",
            "1563/1563 [==============================] - 6s 4ms/step - loss: 0.3071 - accuracy: 0.8879 - val_loss: 0.3225 - val_accuracy: 0.8824\n",
            "Epoch 18/20\n",
            "1563/1563 [==============================] - 6s 4ms/step - loss: 0.3055 - accuracy: 0.8885 - val_loss: 0.3280 - val_accuracy: 0.8817\n",
            "Epoch 19/20\n",
            "1563/1563 [==============================] - 6s 4ms/step - loss: 0.3039 - accuracy: 0.8889 - val_loss: 0.3211 - val_accuracy: 0.8822\n",
            "Epoch 20/20\n",
            "1563/1563 [==============================] - 6s 4ms/step - loss: 0.2977 - accuracy: 0.8895 - val_loss: 0.3225 - val_accuracy: 0.8868\n"
          ]
        },
        {
          "output_type": "execute_result",
          "data": {
            "text/plain": [
              "<keras.callbacks.History at 0x7f18a0cead50>"
            ]
          },
          "metadata": {},
          "execution_count": 15
        }
      ]
    },
    {
      "cell_type": "code",
      "source": [
        "test_data.shape, test_labels.shape"
      ],
      "metadata": {
        "colab": {
          "base_uri": "https://localhost:8080/"
        },
        "id": "KGN3Uw8QVrV6",
        "outputId": "1f272df9-484e-402d-9b9f-1a93073c83a9"
      },
      "execution_count": null,
      "outputs": [
        {
          "output_type": "execute_result",
          "data": {
            "text/plain": [
              "((10000, 784), (10000, 10))"
            ]
          },
          "metadata": {},
          "execution_count": 16
        }
      ]
    },
    {
      "cell_type": "code",
      "source": [
        "classification_model.evaluate(test_data, test_labels, batch_size=32)\n",
        " "
      ],
      "metadata": {
        "colab": {
          "base_uri": "https://localhost:8080/"
        },
        "id": "fkUO7k0txOmm",
        "outputId": "9f519c3e-7246-4fef-b7e0-5cad77a36c4f"
      },
      "execution_count": null,
      "outputs": [
        {
          "output_type": "stream",
          "name": "stdout",
          "text": [
            "313/313 [==============================] - 1s 2ms/step - loss: 0.3438 - accuracy: 0.8802\n"
          ]
        },
        {
          "output_type": "execute_result",
          "data": {
            "text/plain": [
              "[0.34380102157592773, 0.8802000284194946]"
            ]
          },
          "metadata": {},
          "execution_count": 17
        }
      ]
    },
    {
      "cell_type": "code",
      "source": [
        ""
      ],
      "metadata": {
        "id": "V9-b3FTnX9HK"
      },
      "execution_count": null,
      "outputs": []
    }
  ]
}