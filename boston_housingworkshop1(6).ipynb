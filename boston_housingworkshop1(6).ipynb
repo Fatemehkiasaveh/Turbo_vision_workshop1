{
  "nbformat": 4,
  "nbformat_minor": 0,
  "metadata": {
    "colab": {
      "name": " boston_housing.ipynb",
      "provenance": [],
      "collapsed_sections": []
    },
    "kernelspec": {
      "name": "python3",
      "display_name": "Python 3"
    },
    "language_info": {
      "name": "python"
    }
  },
  "cells": [
    {
      "cell_type": "markdown",
      "source": [
        "Question 6"
      ],
      "metadata": {
        "id": "n_-9hsw9fYBl"
      }
    },
    {
      "cell_type": "code",
      "execution_count": null,
      "metadata": {
        "id": "FNKiDa5IfJq8"
      },
      "outputs": [],
      "source": [
        "import tensorflow as tf\n",
        "import numpy as np\n",
        "from tensorflow.keras.layers import *\n",
        "from sklearn.preprocessing import MinMaxScaler\n",
        "from tensorflow.keras.optimizers import Adam\n",
        "from tensorflow.keras.losses import mse\n",
        "import matplotlib.pyplot as plt"
      ]
    },
    {
      "cell_type": "code",
      "source": [
        "(train_data,train_targets),(test_data,test_targets)=tf.keras.datasets.boston_housing.load_data()"
      ],
      "metadata": {
        "colab": {
          "base_uri": "https://localhost:8080/"
        },
        "id": "T9AjRetIQv5X",
        "outputId": "2432534b-d35d-4d29-f3d1-b37f41d5b96c"
      },
      "execution_count": null,
      "outputs": [
        {
          "output_type": "stream",
          "name": "stdout",
          "text": [
            "Downloading data from https://storage.googleapis.com/tensorflow/tf-keras-datasets/boston_housing.npz\n",
            "57344/57026 [==============================] - 0s 0us/step\n",
            "65536/57026 [==================================] - 0s 0us/step\n"
          ]
        }
      ]
    },
    {
      "cell_type": "code",
      "source": [
        "train_data.shape, test_data.shape"
      ],
      "metadata": {
        "colab": {
          "base_uri": "https://localhost:8080/"
        },
        "id": "jyOD1RTPQvvB",
        "outputId": "8f457171-37af-4558-ca2d-2d949323725e"
      },
      "execution_count": null,
      "outputs": [
        {
          "output_type": "execute_result",
          "data": {
            "text/plain": [
              "((404, 13), (102, 13))"
            ]
          },
          "metadata": {},
          "execution_count": 3
        }
      ]
    },
    {
      "cell_type": "markdown",
      "source": [
        "Normalizing the data"
      ],
      "metadata": {
        "id": "NJpbfoNzRSuk"
      }
    },
    {
      "cell_type": "code",
      "source": [
        "mean = train_data.mean(axis=0)\n",
        "train_data -= mean\n",
        "std = train_data.std(axis=0)\n",
        "train_data /= std\n",
        "test_data -= mean\n",
        "test_data /= std"
      ],
      "metadata": {
        "id": "XDvEIcSGQvcP"
      },
      "execution_count": null,
      "outputs": []
    },
    {
      "cell_type": "markdown",
      "source": [
        "Bulding model"
      ],
      "metadata": {
        "id": "EH00eLDUS5CV"
      }
    },
    {
      "cell_type": "code",
      "source": [
        "def build_model():\n",
        "  model = tf.keras.Sequential([\n",
        "                               Dense(units=64,activation='relu'),\n",
        "                               Dense(units=64,activation='relu'),\n",
        "                               Dense(units=1)\n",
        "  ])\n",
        "  model.compile(optimizer='rmsprop',loss='mse',metrics=['mae'])\n",
        "  return model"
      ],
      "metadata": {
        "id": "Td0isx9vQu-k"
      },
      "execution_count": null,
      "outputs": []
    },
    {
      "cell_type": "markdown",
      "source": [
        "K-fold cross-validation"
      ],
      "metadata": {
        "id": "e9ncuCjSU_tM"
      }
    },
    {
      "cell_type": "code",
      "source": [
        "k = 4\n",
        "num_val_samples = len(train_data)//k\n",
        "num_epochs = 100\n",
        "all_scores = []\n",
        "for i in range(k):\n",
        "  print(f'Processing fold #{i}')\n",
        "  val_data = train_data[i*num_val_samples: (i+1)*num_val_samples]\n",
        "  val_targets = train_targets[i*num_val_samples: (i+1)*num_val_samples]\n",
        "  partial_train_data = np.concatenate(\n",
        "      [train_data[:i*num_val_samples],\n",
        "       train_data[(i+1)*num_val_samples:]],\n",
        "       axis=0)\n",
        "  partial_train_targets = np.concatenate(\n",
        "      [train_targets[:i*num_val_samples],\n",
        "       train_targets[(i+1)*num_val_samples:]],\n",
        "       axis=0)\n",
        "  model = build_model()\n",
        "  model.fit(partial_train_data, partial_train_targets,\n",
        "            epochs= num_epochs, batch_size=16, verbose=0)\n",
        "  val_mse, val_mae = model.evaluate(val_data,val_targets, verbose=0)\n",
        "  all_scores.append(val_mae)\n"
      ],
      "metadata": {
        "colab": {
          "base_uri": "https://localhost:8080/"
        },
        "id": "G6U76YOvQuzW",
        "outputId": "be7792fc-9459-4e97-92bf-a43ad3cb05e5"
      },
      "execution_count": null,
      "outputs": [
        {
          "output_type": "stream",
          "name": "stdout",
          "text": [
            "Processing fold #0\n",
            "Processing fold #1\n",
            "Processing fold #2\n",
            "Processing fold #3\n"
          ]
        }
      ]
    },
    {
      "cell_type": "code",
      "source": [
        "all_scores"
      ],
      "metadata": {
        "colab": {
          "base_uri": "https://localhost:8080/"
        },
        "id": "eoXqWDRSQuno",
        "outputId": "d13a557b-3c8a-42e7-de33-1899ac73c4ce"
      },
      "execution_count": null,
      "outputs": [
        {
          "output_type": "execute_result",
          "data": {
            "text/plain": [
              "[2.065721273422241, 2.447197437286377, 2.457171678543091, 2.686030387878418]"
            ]
          },
          "metadata": {},
          "execution_count": 12
        }
      ]
    },
    {
      "cell_type": "code",
      "source": [
        "np.mean(all_scores)"
      ],
      "metadata": {
        "colab": {
          "base_uri": "https://localhost:8080/"
        },
        "id": "rG8vnoIyQuYu",
        "outputId": "4c6cf462-a0ef-4dc1-dd30-28ce8ab4eb0c"
      },
      "execution_count": null,
      "outputs": [
        {
          "output_type": "execute_result",
          "data": {
            "text/plain": [
              "2.4140301942825317"
            ]
          },
          "metadata": {},
          "execution_count": 13
        }
      ]
    },
    {
      "cell_type": "markdown",
      "source": [
        "saving the validation logs at each fold"
      ],
      "metadata": {
        "id": "eb9laoMJYp7M"
      }
    },
    {
      "cell_type": "code",
      "source": [
        "num_epochs = 500\n",
        "all_mae_histories = []\n",
        "for i in range(k):\n",
        "  print(f\"Preprocessing fold #{i}\")\n",
        "  #prepare the validation data\n",
        "  val_data = train_data[i*num_val_samples: (i+1)*num_val_samples]\n",
        "  val_targets = train_targets[i*num_val_samples: (i+1)*num_val_samples]\n",
        "  #prepare the training data\n",
        "  partial_train_data = np.concatenate(\n",
        "      [train_data[:i*num_val_samples],\n",
        "       train_data[(i+1)*num_val_samples:]],\n",
        "       axis=0)\n",
        "  partial_train_targets = np.concatenate(\n",
        "      [train_targets[:i*num_val_samples],\n",
        "       train_targets[(i+1)*num_val_samples:]],\n",
        "       axis=0)\n",
        "  #keras model\n",
        "  model = build_model()\n",
        "  #trains the model(in silent mode verbose=0)\n",
        "  history = model.fit(partial_train_data,partial_train_targets,\n",
        "                      validation_data=(val_data,val_targets),\n",
        "                      epochs=num_epochs, batch_size=16,verbose=0)\n",
        "  mae_history = history.history['val_mae']\n",
        "  all_mae_histories.append(mae_history)\n"
      ],
      "metadata": {
        "colab": {
          "base_uri": "https://localhost:8080/"
        },
        "id": "NdeOTau8YjLz",
        "outputId": "bbfa0831-2c79-461a-b10a-499b1e34e623"
      },
      "execution_count": null,
      "outputs": [
        {
          "output_type": "stream",
          "name": "stdout",
          "text": [
            "Preprocessing fold #0\n",
            "Preprocessing fold #1\n",
            "Preprocessing fold #2\n",
            "Preprocessing fold #3\n"
          ]
        }
      ]
    },
    {
      "cell_type": "code",
      "source": [
        "average_mae_history =[\n",
        "                      np.mean([x[i] for x in all_mae_histories]) for i in range(num_epochs)]\n",
        "                      "
      ],
      "metadata": {
        "id": "-jkigAW6YjDQ"
      },
      "execution_count": null,
      "outputs": []
    },
    {
      "cell_type": "code",
      "source": [
        "plt.plot(range(1,len(average_mae_history)+1), average_mae_history)\n",
        "plt.xlabel('Epochs')\n",
        "plt.ylabel('Validation MAE')\n",
        "plt.show()"
      ],
      "metadata": {
        "colab": {
          "base_uri": "https://localhost:8080/",
          "height": 279
        },
        "id": "8xeeFUXubLJ0",
        "outputId": "e4ac8aff-ed29-47a0-dd3c-94a0af00fe94"
      },
      "execution_count": null,
      "outputs": [
        {
          "output_type": "display_data",
          "data": {
            "text/plain": [
              "<Figure size 432x288 with 1 Axes>"
            ],
            "image/png": "[encoded data removed]"
          },
          "metadata": {
            "needs_background": "light"
          }
        }
      ]
    },
    {
      "cell_type": "markdown",
      "source": [
        "Plotting validation scores, excluding the first 10 data points"
      ],
      "metadata": {
        "id": "BqlYBVLQbtcC"
      }
    },
    {
      "cell_type": "code",
      "source": [
        "truncated_mae_history = average_mae_history[10:]\n",
        "plt.plot(range(1,len(truncated_mae_history)+1), truncated_mae_history)\n",
        "plt.xlabel('Epochs')\n",
        "plt.ylabel('Validation MAE')\n",
        "plt.show()"
      ],
      "metadata": {
        "colab": {
          "base_uri": "https://localhost:8080/",
          "height": 279
        },
        "id": "4P75Z6lGYi_q",
        "outputId": "d0ec8cb7-9a55-4ab0-f534-d868d82c91c3"
      },
      "execution_count": null,
      "outputs": [
        {
          "output_type": "display_data",
          "data": {
            "text/plain": [
              "<Figure size 432x288 with 1 Axes>"
            ],
            "image/png": "[encoded data removed]"
          },
          "metadata": {
            "needs_background": "light"
          }
        }
      ]
    },
    {
      "cell_type": "markdown",
      "source": [
        "Training the final model"
      ],
      "metadata": {
        "id": "zfdyb7G3cZIL"
      }
    },
    {
      "cell_type": "code",
      "source": [
        "model = build_model()\n",
        "model.fit(train_data,train_targets,epochs=130,batch_size=16,verbose=0)\n",
        "test_mse_score, test_mae_score = model.evaluate(test_data,test_targets)"
      ],
      "metadata": {
        "colab": {
          "base_uri": "https://localhost:8080/"
        },
        "id": "hWMgoU58Yi1Y",
        "outputId": "929ca826-db3e-4fa1-90d4-177e6d82ede7"
      },
      "execution_count": null,
      "outputs": [
        {
          "output_type": "stream",
          "name": "stdout",
          "text": [
            "4/4 [==============================] - 0s 3ms/step - loss: 16.1368 - mae: 2.3980\n"
          ]
        }
      ]
    },
    {
      "cell_type": "code",
      "source": [
        "test_mae_score"
      ],
      "metadata": {
        "colab": {
          "base_uri": "https://localhost:8080/"
        },
        "id": "rym8oWeTcP4w",
        "outputId": "d2d3d5a4-c0cf-4ce6-c78b-4442093194cf"
      },
      "execution_count": null,
      "outputs": [
        {
          "output_type": "execute_result",
          "data": {
            "text/plain": [
              "2.3980228900909424"
            ]
          },
          "metadata": {},
          "execution_count": 19
        }
      ]
    },
    {
      "cell_type": "code",
      "source": [
        "predictions = model.predict(test_data)\n",
        "predictions[0]"
      ],
      "metadata": {
        "colab": {
          "base_uri": "https://localhost:8080/"
        },
        "id": "8R3vgiGHcPrn",
        "outputId": "edf7a115-6a81-410c-f7f2-7d375097b0c4"
      },
      "execution_count": null,
      "outputs": [
        {
          "output_type": "execute_result",
          "data": {
            "text/plain": [
              "array([9.128778], dtype=float32)"
            ]
          },
          "metadata": {},
          "execution_count": 20
        }
      ]
    },
    {
      "cell_type": "markdown",
      "source": [
        "The first house in the test set is predicted to have a price of about 10,000 doller"
      ],
      "metadata": {
        "id": "5s3Dy6kndhuv"
      }
    },
    {
      "cell_type": "code",
      "source": [
        "(train_data, train_labels),(test_data, test_labels) = tf.keras.datasets.boston_housing.load_data()"
      ],
      "metadata": {
        "id": "XG5KduGsgGMq"
      },
      "execution_count": null,
      "outputs": []
    },
    {
      "cell_type": "code",
      "source": [
        "train_data.shape, train_labels.shape, test_data.shape, test_labels.shape"
      ],
      "metadata": {
        "colab": {
          "base_uri": "https://localhost:8080/"
        },
        "id": "lljaJ-5If8Jc",
        "outputId": "98328008-aae4-4094-bc5e-99ccd4406447"
      },
      "execution_count": null,
      "outputs": [
        {
          "output_type": "execute_result",
          "data": {
            "text/plain": [
              "((404, 13), (404,), (102, 13), (102,))"
            ]
          },
          "metadata": {},
          "execution_count": 3
        }
      ]
    },
    {
      "cell_type": "code",
      "source": [
        "train_data.dtype, train_labels.dtype, test_data.dtype, test_labels.dtype"
      ],
      "metadata": {
        "colab": {
          "base_uri": "https://localhost:8080/"
        },
        "id": "bALBqrN5gjm0",
        "outputId": "f48e2632-bd6f-4c17-d63c-b5037c630b29"
      },
      "execution_count": null,
      "outputs": [
        {
          "output_type": "execute_result",
          "data": {
            "text/plain": [
              "(dtype('float64'), dtype('float64'), dtype('float64'), dtype('float64'))"
            ]
          },
          "metadata": {},
          "execution_count": 4
        }
      ]
    },
    {
      "cell_type": "code",
      "source": [
        "train_labels = np.reshape(train_labels, newshape=(-1,1)).astype(np.float32)\n",
        "test_labels = np.reshape(test_labels, newshape=(-1,1)).astype(np.float32)\n",
        "train_data = train_data.astype(np.float32)\n",
        "test_data = test_data.astype(np.float32)"
      ],
      "metadata": {
        "id": "z0T1cSXSgwVz"
      },
      "execution_count": null,
      "outputs": []
    },
    {
      "cell_type": "code",
      "source": [
        "train_data.shape, train_labels.shape, test_data.shape, test_labels.shape"
      ],
      "metadata": {
        "colab": {
          "base_uri": "https://localhost:8080/"
        },
        "id": "u8kfjMO9g0Aw",
        "outputId": "b5e56c43-748a-46a2-fade-87605e2d244b"
      },
      "execution_count": null,
      "outputs": [
        {
          "output_type": "execute_result",
          "data": {
            "text/plain": [
              "((404, 13), (404, 1), (102, 13), (102, 1))"
            ]
          },
          "metadata": {},
          "execution_count": 6
        }
      ]
    },
    {
      "cell_type": "code",
      "source": [
        "min_max_scaler = MinMaxScaler()\n",
        "min_max_scaler.fit(train_data)"
      ],
      "metadata": {
        "colab": {
          "base_uri": "https://localhost:8080/"
        },
        "id": "TPRCHzX7h7O5",
        "outputId": "68e149cf-b8a7-431b-d3bd-1081081bb10b"
      },
      "execution_count": null,
      "outputs": [
        {
          "output_type": "execute_result",
          "data": {
            "text/plain": [
              "MinMaxScaler()"
            ]
          },
          "metadata": {},
          "execution_count": 7
        }
      ]
    },
    {
      "cell_type": "code",
      "source": [
        "train_data = min_max_scaler.transform(train_data)"
      ],
      "metadata": {
        "id": "Mk8GVVHPiqRO"
      },
      "execution_count": null,
      "outputs": []
    },
    {
      "cell_type": "code",
      "source": [
        "train_data.min(axis=0), train_data.max(axis=0)"
      ],
      "metadata": {
        "colab": {
          "base_uri": "https://localhost:8080/"
        },
        "id": "yawBsa3Bi-W3",
        "outputId": "f22e907b-bf04-4534-d5ce-61fa67dbd9c7"
      },
      "execution_count": null,
      "outputs": [
        {
          "output_type": "execute_result",
          "data": {
            "text/plain": [
              "(array([0., 0., 0., 0., 0., 0., 0., 0., 0., 0., 0., 0., 0.], dtype=float32),\n",
              " array([0.9999999 , 1.        , 1.        , 1.        , 1.        ,\n",
              "        0.9999999 , 1.        , 1.0000001 , 1.        , 1.        ,\n",
              "        0.9999999 , 1.        , 0.99999994], dtype=float32))"
            ]
          },
          "metadata": {},
          "execution_count": 9
        }
      ]
    },
    {
      "cell_type": "code",
      "source": [
        "test_data = min_max_scaler.transform(test_data)"
      ],
      "metadata": {
        "id": "Iio1uKFenUUm"
      },
      "execution_count": null,
      "outputs": []
    },
    {
      "cell_type": "code",
      "source": [
        "train_labels.min(), train_labels.max()"
      ],
      "metadata": {
        "colab": {
          "base_uri": "https://localhost:8080/"
        },
        "id": "5h5q-Auynf-v",
        "outputId": "a8e59f64-2798-4ee2-dfe1-6bfbe02deee5"
      },
      "execution_count": null,
      "outputs": [
        {
          "output_type": "execute_result",
          "data": {
            "text/plain": [
              "(5.0, 50.0)"
            ]
          },
          "metadata": {},
          "execution_count": 11
        }
      ]
    },
    {
      "cell_type": "code",
      "source": [
        "input_layer = Input((13,))\n",
        "x = Dense(units=8, activation='relu')(input_layer)\n",
        "x = Dense(units=4, activation='relu')(x)\n",
        "output = Dense(units=1)(x)\n",
        "reg_model = tf.keras.models.Model(input_layer, output)\n",
        "reg_model.summary()"
      ],
      "metadata": {
        "colab": {
          "base_uri": "https://localhost:8080/"
        },
        "id": "BPaxr6pRnnq9",
        "outputId": "ec042e24-ee66-4381-e9b3-40faff0d41e6"
      },
      "execution_count": null,
      "outputs": [
        {
          "output_type": "stream",
          "name": "stdout",
          "text": [
            "Model: \"model\"\n",
            "_________________________________________________________________\n",
            " Layer (type)                Output Shape              Param #   \n",
            "=================================================================\n",
            " input_1 (InputLayer)        [(None, 13)]              0         \n",
            "                                                                 \n",
            " dense (Dense)               (None, 8)                 112       \n",
            "                                                                 \n",
            " dense_1 (Dense)             (None, 4)                 36        \n",
            "                                                                 \n",
            " dense_2 (Dense)             (None, 1)                 5         \n",
            "                                                                 \n",
            "=================================================================\n",
            "Total params: 153\n",
            "Trainable params: 153\n",
            "Non-trainable params: 0\n",
            "_________________________________________________________________\n"
          ]
        }
      ]
    },
    {
      "cell_type": "code",
      "source": [
        "reg_model.compile(optimizer='rmsprop' ,loss='mse',metrics=['mae'])"
      ],
      "metadata": {
        "id": "d3Dkchnwpco3"
      },
      "execution_count": null,
      "outputs": []
    },
    {
      "cell_type": "code",
      "source": [
        "#prediction before training\n",
        "plt.plot(train_labels[:30], 'b')\n",
        "plt.plot(reg_model(train_data[:30]),'r')"
      ],
      "metadata": {
        "colab": {
          "base_uri": "https://localhost:8080/",
          "height": 282
        },
        "id": "bxe8-V27qwA4",
        "outputId": "03fbc7b2-078b-4158-ff60-42a9599d5310"
      },
      "execution_count": null,
      "outputs": [
        {
          "output_type": "execute_result",
          "data": {
            "text/plain": [
              "[<matplotlib.lines.Line2D at 0x7f0d3c961e10>]"
            ]
          },
          "metadata": {},
          "execution_count": 20
        },
        {
          "output_type": "display_data",
          "data": {
            "text/plain": [
              "<Figure size 432x288 with 1 Axes>"
            ],
            "image/png": "[encoded data removed]"
          },
          "metadata": {
            "needs_background": "light"
          }
        }
      ]
    },
    {
      "cell_type": "code",
      "source": [
        "#early_stop = tf.keras.callbacks.EarlyStopping(monitor='val_loss', patience=5, mode='max', restore_best_weights=True)"
      ],
      "metadata": {
        "id": "aCoRBsCkru4x"
      },
      "execution_count": null,
      "outputs": []
    },
    {
      "cell_type": "code",
      "source": [
        "reg_model.fit(train_data, train_labels, batch_size=8, epochs =500, validation_data=(test_data, test_labels))"
      ],
      "metadata": {
        "colab": {
          "base_uri": "https://localhost:8080/"
        },
        "id": "ONy6MLzDrL7H",
        "outputId": "2060daf1-1ed4-4e7c-eda2-98e62cb20ab6"
      },
      "execution_count": null,
      "outputs": [
        {
          "output_type": "stream",
          "name": "stdout",
          "text": [
            "Epoch 1/500\n",
            "51/51 [==============================] - 1s 4ms/step - loss: 8.6988 - mae: 2.1524 - val_loss: 26.1135 - val_mae: 3.1537\n",
            "Epoch 2/500\n",
            "51/51 [==============================] - 0s 2ms/step - loss: 8.4984 - mae: 2.1215 - val_loss: 25.1650 - val_mae: 3.0876\n",
            "Epoch 3/500\n",
            "51/51 [==============================] - 0s 2ms/step - loss: 8.6552 - mae: 2.1386 - val_loss: 25.5119 - val_mae: 3.1051\n",
            "Epoch 4/500\n",
            "51/51 [==============================] - 0s 2ms/step - loss: 8.5700 - mae: 2.1294 - val_loss: 25.5754 - val_mae: 3.1115\n",
            "Epoch 5/500\n",
            "51/51 [==============================] - 0s 2ms/step - loss: 8.6367 - mae: 2.1282 - val_loss: 25.4521 - val_mae: 3.1075\n",
            "Epoch 6/500\n",
            "51/51 [==============================] - 0s 2ms/step - loss: 8.6177 - mae: 2.1382 - val_loss: 25.1288 - val_mae: 3.0895\n",
            "Epoch 7/500\n",
            "51/51 [==============================] - 0s 2ms/step - loss: 8.6000 - mae: 2.1215 - val_loss: 25.0635 - val_mae: 3.0675\n",
            "Epoch 8/500\n",
            "51/51 [==============================] - 0s 2ms/step - loss: 8.5868 - mae: 2.1257 - val_loss: 25.5157 - val_mae: 3.1207\n",
            "Epoch 9/500\n",
            "51/51 [==============================] - 0s 2ms/step - loss: 8.6126 - mae: 2.1260 - val_loss: 25.1100 - val_mae: 3.0760\n",
            "Epoch 10/500\n",
            "51/51 [==============================] - 0s 2ms/step - loss: 8.6180 - mae: 2.1222 - val_loss: 25.3524 - val_mae: 3.0933\n",
            "Epoch 11/500\n",
            "51/51 [==============================] - 0s 2ms/step - loss: 8.6357 - mae: 2.1391 - val_loss: 25.2363 - val_mae: 3.0891\n",
            "Epoch 12/500\n",
            "51/51 [==============================] - 0s 2ms/step - loss: 8.6073 - mae: 2.1247 - val_loss: 25.0402 - val_mae: 3.0822\n",
            "Epoch 13/500\n",
            "51/51 [==============================] - 0s 2ms/step - loss: 8.6183 - mae: 2.1221 - val_loss: 25.4519 - val_mae: 3.1088\n",
            "Epoch 14/500\n",
            "51/51 [==============================] - 0s 2ms/step - loss: 8.6085 - mae: 2.1316 - val_loss: 25.1588 - val_mae: 3.0882\n",
            "Epoch 15/500\n",
            "51/51 [==============================] - 0s 2ms/step - loss: 8.5909 - mae: 2.1248 - val_loss: 25.1158 - val_mae: 3.0785\n",
            "Epoch 16/500\n",
            "51/51 [==============================] - 0s 2ms/step - loss: 8.6341 - mae: 2.1347 - val_loss: 25.3978 - val_mae: 3.1152\n",
            "Epoch 17/500\n",
            "51/51 [==============================] - 0s 2ms/step - loss: 8.6014 - mae: 2.1280 - val_loss: 25.2400 - val_mae: 3.0921\n",
            "Epoch 18/500\n",
            "51/51 [==============================] - 0s 3ms/step - loss: 8.6222 - mae: 2.1274 - val_loss: 25.1311 - val_mae: 3.0678\n",
            "Epoch 19/500\n",
            "51/51 [==============================] - 0s 2ms/step - loss: 8.5941 - mae: 2.1233 - val_loss: 25.4599 - val_mae: 3.0985\n",
            "Epoch 20/500\n",
            "51/51 [==============================] - 0s 2ms/step - loss: 8.5938 - mae: 2.1255 - val_loss: 25.0672 - val_mae: 3.0662\n",
            "Epoch 21/500\n",
            "51/51 [==============================] - 0s 2ms/step - loss: 8.6167 - mae: 2.1248 - val_loss: 24.9026 - val_mae: 3.0618\n",
            "Epoch 22/500\n",
            "51/51 [==============================] - 0s 2ms/step - loss: 8.6367 - mae: 2.1234 - val_loss: 25.0418 - val_mae: 3.0738\n",
            "Epoch 23/500\n",
            "51/51 [==============================] - 0s 2ms/step - loss: 8.5984 - mae: 2.1142 - val_loss: 25.3536 - val_mae: 3.0799\n",
            "Epoch 24/500\n",
            "51/51 [==============================] - 0s 2ms/step - loss: 8.4956 - mae: 2.1239 - val_loss: 25.2282 - val_mae: 3.0928\n",
            "Epoch 25/500\n",
            "51/51 [==============================] - 0s 2ms/step - loss: 8.6483 - mae: 2.1212 - val_loss: 25.5059 - val_mae: 3.0905\n",
            "Epoch 26/500\n",
            "51/51 [==============================] - 0s 2ms/step - loss: 8.5943 - mae: 2.1155 - val_loss: 25.2190 - val_mae: 3.0777\n",
            "Epoch 27/500\n",
            "51/51 [==============================] - 0s 2ms/step - loss: 8.5919 - mae: 2.1218 - val_loss: 25.5540 - val_mae: 3.0978\n",
            "Epoch 28/500\n",
            "51/51 [==============================] - 0s 3ms/step - loss: 8.5220 - mae: 2.1157 - val_loss: 25.8004 - val_mae: 3.1169\n",
            "Epoch 29/500\n",
            "51/51 [==============================] - 0s 2ms/step - loss: 8.6006 - mae: 2.1225 - val_loss: 25.4507 - val_mae: 3.0902\n",
            "Epoch 30/500\n",
            "51/51 [==============================] - 0s 2ms/step - loss: 8.5818 - mae: 2.1126 - val_loss: 25.4490 - val_mae: 3.0810\n",
            "Epoch 31/500\n",
            "51/51 [==============================] - 0s 2ms/step - loss: 8.5760 - mae: 2.1363 - val_loss: 25.6056 - val_mae: 3.1036\n",
            "Epoch 32/500\n",
            "51/51 [==============================] - 0s 2ms/step - loss: 8.6015 - mae: 2.1323 - val_loss: 25.0545 - val_mae: 3.0746\n",
            "Epoch 33/500\n",
            "51/51 [==============================] - 0s 2ms/step - loss: 8.5556 - mae: 2.1248 - val_loss: 25.2990 - val_mae: 3.0990\n",
            "Epoch 34/500\n",
            "51/51 [==============================] - 0s 2ms/step - loss: 8.5692 - mae: 2.1172 - val_loss: 24.9772 - val_mae: 3.0721\n",
            "Epoch 35/500\n",
            "51/51 [==============================] - 0s 2ms/step - loss: 8.5675 - mae: 2.1078 - val_loss: 24.9765 - val_mae: 3.0711\n",
            "Epoch 36/500\n",
            "51/51 [==============================] - 0s 2ms/step - loss: 8.6426 - mae: 2.1072 - val_loss: 24.9174 - val_mae: 3.0654\n",
            "Epoch 37/500\n",
            "51/51 [==============================] - 0s 2ms/step - loss: 8.5446 - mae: 2.1050 - val_loss: 25.2453 - val_mae: 3.0844\n",
            "Epoch 38/500\n",
            "51/51 [==============================] - 0s 2ms/step - loss: 8.5807 - mae: 2.1069 - val_loss: 25.6042 - val_mae: 3.1431\n",
            "Epoch 39/500\n",
            "51/51 [==============================] - 0s 2ms/step - loss: 8.4717 - mae: 2.1322 - val_loss: 24.6135 - val_mae: 3.0512\n",
            "Epoch 40/500\n",
            "51/51 [==============================] - 0s 2ms/step - loss: 8.5772 - mae: 2.1257 - val_loss: 24.6596 - val_mae: 3.0527\n",
            "Epoch 41/500\n",
            "51/51 [==============================] - 0s 2ms/step - loss: 8.5653 - mae: 2.1018 - val_loss: 24.9236 - val_mae: 3.0590\n",
            "Epoch 42/500\n",
            "51/51 [==============================] - 0s 2ms/step - loss: 8.5169 - mae: 2.1181 - val_loss: 25.0117 - val_mae: 3.0558\n",
            "Epoch 43/500\n",
            "51/51 [==============================] - 0s 2ms/step - loss: 8.5879 - mae: 2.1265 - val_loss: 25.0120 - val_mae: 3.0576\n",
            "Epoch 44/500\n",
            "51/51 [==============================] - 0s 2ms/step - loss: 8.5981 - mae: 2.1113 - val_loss: 24.8997 - val_mae: 3.0607\n",
            "Epoch 45/500\n",
            "51/51 [==============================] - 0s 2ms/step - loss: 8.5111 - mae: 2.1205 - val_loss: 25.3865 - val_mae: 3.1268\n",
            "Epoch 46/500\n",
            "51/51 [==============================] - 0s 2ms/step - loss: 8.5743 - mae: 2.1193 - val_loss: 25.2128 - val_mae: 3.1033\n",
            "Epoch 47/500\n",
            "51/51 [==============================] - 0s 2ms/step - loss: 8.5137 - mae: 2.1058 - val_loss: 25.4092 - val_mae: 3.1505\n",
            "Epoch 48/500\n",
            "51/51 [==============================] - 0s 2ms/step - loss: 8.6320 - mae: 2.1147 - val_loss: 25.1442 - val_mae: 3.1152\n",
            "Epoch 49/500\n",
            "51/51 [==============================] - 0s 2ms/step - loss: 8.5433 - mae: 2.0998 - val_loss: 24.9479 - val_mae: 3.0729\n",
            "Epoch 50/500\n",
            "51/51 [==============================] - 0s 2ms/step - loss: 8.5304 - mae: 2.1351 - val_loss: 24.6878 - val_mae: 3.0527\n",
            "Epoch 51/500\n",
            "51/51 [==============================] - 0s 2ms/step - loss: 8.5326 - mae: 2.1164 - val_loss: 24.6932 - val_mae: 3.0501\n",
            "Epoch 52/500\n",
            "51/51 [==============================] - 0s 2ms/step - loss: 8.5105 - mae: 2.1063 - val_loss: 24.6734 - val_mae: 3.0674\n",
            "Epoch 53/500\n",
            "51/51 [==============================] - 0s 2ms/step - loss: 8.5441 - mae: 2.1151 - val_loss: 25.2016 - val_mae: 3.1190\n",
            "Epoch 54/500\n",
            "51/51 [==============================] - 0s 2ms/step - loss: 8.4740 - mae: 2.0920 - val_loss: 25.2341 - val_mae: 3.1188\n",
            "Epoch 55/500\n",
            "51/51 [==============================] - 0s 2ms/step - loss: 8.5174 - mae: 2.1271 - val_loss: 24.6702 - val_mae: 3.0585\n",
            "Epoch 56/500\n",
            "51/51 [==============================] - 0s 2ms/step - loss: 8.5595 - mae: 2.1064 - val_loss: 24.5920 - val_mae: 3.0618\n",
            "Epoch 57/500\n",
            "51/51 [==============================] - 0s 2ms/step - loss: 8.4747 - mae: 2.1160 - val_loss: 24.5345 - val_mae: 3.0528\n",
            "Epoch 58/500\n",
            "51/51 [==============================] - 0s 2ms/step - loss: 8.5413 - mae: 2.1050 - val_loss: 24.6807 - val_mae: 3.0741\n",
            "Epoch 59/500\n",
            "51/51 [==============================] - 0s 2ms/step - loss: 8.5293 - mae: 2.1273 - val_loss: 24.5445 - val_mae: 3.0550\n",
            "Epoch 60/500\n",
            "51/51 [==============================] - 0s 2ms/step - loss: 8.5151 - mae: 2.1086 - val_loss: 24.7483 - val_mae: 3.0734\n",
            "Epoch 61/500\n",
            "51/51 [==============================] - 0s 2ms/step - loss: 8.5135 - mae: 2.1171 - val_loss: 24.8048 - val_mae: 3.0598\n",
            "Epoch 62/500\n",
            "51/51 [==============================] - 0s 2ms/step - loss: 8.5534 - mae: 2.1048 - val_loss: 24.7553 - val_mae: 3.0574\n",
            "Epoch 63/500\n",
            "51/51 [==============================] - 0s 2ms/step - loss: 8.3408 - mae: 2.1122 - val_loss: 24.5366 - val_mae: 3.0734\n",
            "Epoch 64/500\n",
            "51/51 [==============================] - 0s 2ms/step - loss: 8.5367 - mae: 2.1172 - val_loss: 24.7531 - val_mae: 3.0596\n",
            "Epoch 65/500\n",
            "51/51 [==============================] - 0s 2ms/step - loss: 8.4529 - mae: 2.1049 - val_loss: 24.1817 - val_mae: 3.0476\n",
            "Epoch 66/500\n",
            "51/51 [==============================] - 0s 2ms/step - loss: 8.5080 - mae: 2.0928 - val_loss: 24.3239 - val_mae: 3.0469\n",
            "Epoch 67/500\n",
            "51/51 [==============================] - 0s 2ms/step - loss: 8.4548 - mae: 2.1116 - val_loss: 24.6372 - val_mae: 3.0583\n",
            "Epoch 68/500\n",
            "51/51 [==============================] - 0s 2ms/step - loss: 8.4536 - mae: 2.1259 - val_loss: 24.8308 - val_mae: 3.0568\n",
            "Epoch 69/500\n",
            "51/51 [==============================] - 0s 2ms/step - loss: 8.4966 - mae: 2.1098 - val_loss: 25.0037 - val_mae: 3.0924\n",
            "Epoch 70/500\n",
            "51/51 [==============================] - 0s 2ms/step - loss: 8.4688 - mae: 2.0990 - val_loss: 25.1200 - val_mae: 3.1138\n",
            "Epoch 71/500\n",
            "51/51 [==============================] - 0s 2ms/step - loss: 8.5058 - mae: 2.1083 - val_loss: 24.9620 - val_mae: 3.0677\n",
            "Epoch 72/500\n",
            "51/51 [==============================] - 0s 2ms/step - loss: 8.4807 - mae: 2.1098 - val_loss: 24.8859 - val_mae: 3.0680\n",
            "Epoch 73/500\n",
            "51/51 [==============================] - 0s 2ms/step - loss: 8.5524 - mae: 2.1126 - val_loss: 24.5797 - val_mae: 3.0464\n",
            "Epoch 74/500\n",
            "51/51 [==============================] - 0s 2ms/step - loss: 8.4937 - mae: 2.0998 - val_loss: 24.5683 - val_mae: 3.0516\n",
            "Epoch 75/500\n",
            "51/51 [==============================] - 0s 2ms/step - loss: 8.4818 - mae: 2.1069 - val_loss: 24.3282 - val_mae: 3.0472\n",
            "Epoch 76/500\n",
            "51/51 [==============================] - 0s 2ms/step - loss: 8.4140 - mae: 2.0911 - val_loss: 24.9432 - val_mae: 3.1028\n",
            "Epoch 77/500\n",
            "51/51 [==============================] - 0s 2ms/step - loss: 8.4265 - mae: 2.1181 - val_loss: 24.3872 - val_mae: 3.0509\n",
            "Epoch 78/500\n",
            "51/51 [==============================] - 0s 2ms/step - loss: 8.3855 - mae: 2.1154 - val_loss: 24.1722 - val_mae: 3.0564\n",
            "Epoch 79/500\n",
            "51/51 [==============================] - 0s 2ms/step - loss: 8.4340 - mae: 2.0861 - val_loss: 24.4052 - val_mae: 3.0537\n",
            "Epoch 80/500\n",
            "51/51 [==============================] - 0s 2ms/step - loss: 8.4316 - mae: 2.1084 - val_loss: 24.2544 - val_mae: 3.0457\n",
            "Epoch 81/500\n",
            "51/51 [==============================] - 0s 2ms/step - loss: 8.4666 - mae: 2.0917 - val_loss: 24.5813 - val_mae: 3.0676\n",
            "Epoch 82/500\n",
            "51/51 [==============================] - 0s 2ms/step - loss: 8.4152 - mae: 2.1187 - val_loss: 24.4443 - val_mae: 3.0490\n",
            "Epoch 83/500\n",
            "51/51 [==============================] - 0s 2ms/step - loss: 8.4017 - mae: 2.0970 - val_loss: 24.2442 - val_mae: 3.0692\n",
            "Epoch 84/500\n",
            "51/51 [==============================] - 0s 2ms/step - loss: 8.4594 - mae: 2.0843 - val_loss: 24.3056 - val_mae: 3.0471\n",
            "Epoch 85/500\n",
            "51/51 [==============================] - 0s 2ms/step - loss: 8.4253 - mae: 2.0984 - val_loss: 24.5081 - val_mae: 3.0499\n",
            "Epoch 86/500\n",
            "51/51 [==============================] - 0s 2ms/step - loss: 8.3644 - mae: 2.0820 - val_loss: 24.8307 - val_mae: 3.1112\n",
            "Epoch 87/500\n",
            "51/51 [==============================] - 0s 2ms/step - loss: 8.3944 - mae: 2.1010 - val_loss: 24.3270 - val_mae: 3.0413\n",
            "Epoch 88/500\n",
            "51/51 [==============================] - 0s 2ms/step - loss: 8.3652 - mae: 2.0883 - val_loss: 24.6955 - val_mae: 3.0529\n",
            "Epoch 89/500\n",
            "51/51 [==============================] - 0s 2ms/step - loss: 8.4088 - mae: 2.1067 - val_loss: 24.8307 - val_mae: 3.0874\n",
            "Epoch 90/500\n",
            "51/51 [==============================] - 0s 2ms/step - loss: 8.3261 - mae: 2.0950 - val_loss: 24.3180 - val_mae: 3.0474\n",
            "Epoch 91/500\n",
            "51/51 [==============================] - 0s 2ms/step - loss: 8.3085 - mae: 2.0816 - val_loss: 24.2413 - val_mae: 3.0512\n",
            "Epoch 92/500\n",
            "51/51 [==============================] - 0s 2ms/step - loss: 8.4022 - mae: 2.0867 - val_loss: 24.2840 - val_mae: 3.0394\n",
            "Epoch 93/500\n",
            "51/51 [==============================] - 0s 2ms/step - loss: 8.3421 - mae: 2.0777 - val_loss: 24.5631 - val_mae: 3.0531\n",
            "Epoch 94/500\n",
            "51/51 [==============================] - 0s 2ms/step - loss: 8.3233 - mae: 2.0828 - val_loss: 25.1102 - val_mae: 3.1119\n",
            "Epoch 95/500\n",
            "51/51 [==============================] - 0s 2ms/step - loss: 8.3183 - mae: 2.0869 - val_loss: 24.5715 - val_mae: 3.0459\n",
            "Epoch 96/500\n",
            "51/51 [==============================] - 0s 2ms/step - loss: 8.4218 - mae: 2.0844 - val_loss: 24.2365 - val_mae: 3.0407\n",
            "Epoch 97/500\n",
            "51/51 [==============================] - 0s 2ms/step - loss: 8.3543 - mae: 2.0760 - val_loss: 24.1751 - val_mae: 3.0413\n",
            "Epoch 98/500\n",
            "51/51 [==============================] - 0s 2ms/step - loss: 8.3764 - mae: 2.0887 - val_loss: 24.5569 - val_mae: 3.0554\n",
            "Epoch 99/500\n",
            "51/51 [==============================] - 0s 2ms/step - loss: 8.4446 - mae: 2.0840 - val_loss: 24.3197 - val_mae: 3.0487\n",
            "Epoch 100/500\n",
            "51/51 [==============================] - 0s 2ms/step - loss: 8.3052 - mae: 2.0949 - val_loss: 24.0188 - val_mae: 3.0387\n",
            "Epoch 101/500\n",
            "51/51 [==============================] - 0s 2ms/step - loss: 8.3354 - mae: 2.0795 - val_loss: 24.3568 - val_mae: 3.0695\n",
            "Epoch 102/500\n",
            "51/51 [==============================] - 0s 2ms/step - loss: 8.4079 - mae: 2.0867 - val_loss: 24.3547 - val_mae: 3.0545\n",
            "Epoch 103/500\n",
            "51/51 [==============================] - 0s 2ms/step - loss: 8.3291 - mae: 2.0706 - val_loss: 24.5334 - val_mae: 3.0687\n",
            "Epoch 104/500\n",
            "51/51 [==============================] - 0s 3ms/step - loss: 8.3297 - mae: 2.0887 - val_loss: 24.0269 - val_mae: 3.0452\n",
            "Epoch 105/500\n",
            "51/51 [==============================] - 0s 2ms/step - loss: 8.3026 - mae: 2.0860 - val_loss: 23.4141 - val_mae: 3.0191\n",
            "Epoch 106/500\n",
            "51/51 [==============================] - 0s 2ms/step - loss: 8.3680 - mae: 2.0794 - val_loss: 23.8500 - val_mae: 3.0341\n",
            "Epoch 107/500\n",
            "51/51 [==============================] - 0s 2ms/step - loss: 8.2871 - mae: 2.1062 - val_loss: 24.2480 - val_mae: 3.0505\n",
            "Epoch 108/500\n",
            "51/51 [==============================] - 0s 2ms/step - loss: 8.2600 - mae: 2.0631 - val_loss: 24.0079 - val_mae: 3.0336\n",
            "Epoch 109/500\n",
            "51/51 [==============================] - 0s 2ms/step - loss: 8.3350 - mae: 2.0953 - val_loss: 24.0476 - val_mae: 3.0305\n",
            "Epoch 110/500\n",
            "51/51 [==============================] - 0s 2ms/step - loss: 8.2153 - mae: 2.0870 - val_loss: 24.4344 - val_mae: 3.0427\n",
            "Epoch 111/500\n",
            "51/51 [==============================] - 0s 2ms/step - loss: 8.2817 - mae: 2.0767 - val_loss: 23.8413 - val_mae: 3.0249\n",
            "Epoch 112/500\n",
            "51/51 [==============================] - 0s 2ms/step - loss: 8.4066 - mae: 2.0832 - val_loss: 23.6934 - val_mae: 3.0230\n",
            "Epoch 113/500\n",
            "51/51 [==============================] - 0s 2ms/step - loss: 8.3196 - mae: 2.0665 - val_loss: 23.8167 - val_mae: 3.0287\n",
            "Epoch 114/500\n",
            "51/51 [==============================] - 0s 2ms/step - loss: 8.2487 - mae: 2.0817 - val_loss: 23.9255 - val_mae: 3.0414\n",
            "Epoch 115/500\n",
            "51/51 [==============================] - 0s 2ms/step - loss: 8.2752 - mae: 2.0738 - val_loss: 23.7273 - val_mae: 3.0293\n",
            "Epoch 116/500\n",
            "51/51 [==============================] - 0s 2ms/step - loss: 8.2821 - mae: 2.0758 - val_loss: 23.7273 - val_mae: 3.0262\n",
            "Epoch 117/500\n",
            "51/51 [==============================] - 0s 2ms/step - loss: 8.2087 - mae: 2.0671 - val_loss: 23.5778 - val_mae: 3.0191\n",
            "Epoch 118/500\n",
            "51/51 [==============================] - 0s 2ms/step - loss: 8.2581 - mae: 2.0689 - val_loss: 24.0469 - val_mae: 3.0261\n",
            "Epoch 119/500\n",
            "51/51 [==============================] - 0s 2ms/step - loss: 8.2102 - mae: 2.0518 - val_loss: 24.2718 - val_mae: 3.0508\n",
            "Epoch 120/500\n",
            "51/51 [==============================] - 0s 2ms/step - loss: 8.2518 - mae: 2.0800 - val_loss: 23.9690 - val_mae: 3.0275\n",
            "Epoch 121/500\n",
            "51/51 [==============================] - 0s 2ms/step - loss: 8.2320 - mae: 2.0526 - val_loss: 23.6016 - val_mae: 3.0390\n",
            "Epoch 122/500\n",
            "51/51 [==============================] - 0s 2ms/step - loss: 8.3071 - mae: 2.0833 - val_loss: 23.7550 - val_mae: 3.0147\n",
            "Epoch 123/500\n",
            "51/51 [==============================] - 0s 2ms/step - loss: 8.2775 - mae: 2.0567 - val_loss: 23.8039 - val_mae: 3.0517\n",
            "Epoch 124/500\n",
            "51/51 [==============================] - 0s 2ms/step - loss: 8.2754 - mae: 2.0693 - val_loss: 23.4341 - val_mae: 3.0065\n",
            "Epoch 125/500\n",
            "51/51 [==============================] - 0s 2ms/step - loss: 8.1994 - mae: 2.0747 - val_loss: 23.5686 - val_mae: 3.0055\n",
            "Epoch 126/500\n",
            "51/51 [==============================] - 0s 2ms/step - loss: 8.2295 - mae: 2.0671 - val_loss: 23.4963 - val_mae: 3.0037\n",
            "Epoch 127/500\n",
            "51/51 [==============================] - 0s 2ms/step - loss: 8.1830 - mae: 2.0559 - val_loss: 23.6157 - val_mae: 3.0207\n",
            "Epoch 128/500\n",
            "51/51 [==============================] - 0s 2ms/step - loss: 8.2114 - mae: 2.0892 - val_loss: 23.3624 - val_mae: 2.9922\n",
            "Epoch 129/500\n",
            "51/51 [==============================] - 0s 2ms/step - loss: 8.2193 - mae: 2.0574 - val_loss: 23.3934 - val_mae: 3.0143\n",
            "Epoch 130/500\n",
            "51/51 [==============================] - 0s 2ms/step - loss: 8.2199 - mae: 2.0729 - val_loss: 23.3022 - val_mae: 3.0017\n",
            "Epoch 131/500\n",
            "51/51 [==============================] - 0s 2ms/step - loss: 8.2607 - mae: 2.0666 - val_loss: 23.6652 - val_mae: 3.0210\n",
            "Epoch 132/500\n",
            "51/51 [==============================] - 0s 2ms/step - loss: 8.1483 - mae: 2.0686 - val_loss: 23.6121 - val_mae: 3.0028\n",
            "Epoch 133/500\n",
            "51/51 [==============================] - 0s 2ms/step - loss: 8.1817 - mae: 2.0707 - val_loss: 23.6806 - val_mae: 3.0015\n",
            "Epoch 134/500\n",
            "51/51 [==============================] - 0s 2ms/step - loss: 8.2191 - mae: 2.0610 - val_loss: 23.6525 - val_mae: 3.0111\n",
            "Epoch 135/500\n",
            "51/51 [==============================] - 0s 2ms/step - loss: 8.1125 - mae: 2.0744 - val_loss: 23.5130 - val_mae: 3.0057\n",
            "Epoch 136/500\n",
            "51/51 [==============================] - 0s 2ms/step - loss: 8.1659 - mae: 2.0585 - val_loss: 23.5994 - val_mae: 2.9994\n",
            "Epoch 137/500\n",
            "51/51 [==============================] - 0s 2ms/step - loss: 8.1297 - mae: 2.0463 - val_loss: 23.7816 - val_mae: 3.0203\n",
            "Epoch 138/500\n",
            "51/51 [==============================] - 0s 2ms/step - loss: 8.2675 - mae: 2.0803 - val_loss: 23.2512 - val_mae: 2.9865\n",
            "Epoch 139/500\n",
            "51/51 [==============================] - 0s 2ms/step - loss: 8.1210 - mae: 2.0672 - val_loss: 23.0344 - val_mae: 2.9803\n",
            "Epoch 140/500\n",
            "51/51 [==============================] - 0s 2ms/step - loss: 8.1624 - mae: 2.0722 - val_loss: 23.2110 - val_mae: 2.9916\n",
            "Epoch 141/500\n",
            "51/51 [==============================] - 0s 2ms/step - loss: 8.1831 - mae: 2.0583 - val_loss: 22.9797 - val_mae: 2.9804\n",
            "Epoch 142/500\n",
            "51/51 [==============================] - 0s 2ms/step - loss: 8.2044 - mae: 2.0637 - val_loss: 22.9058 - val_mae: 2.9791\n",
            "Epoch 143/500\n",
            "51/51 [==============================] - 0s 2ms/step - loss: 8.2007 - mae: 2.0758 - val_loss: 22.8865 - val_mae: 2.9858\n",
            "Epoch 144/500\n",
            "51/51 [==============================] - 0s 2ms/step - loss: 8.1425 - mae: 2.0566 - val_loss: 22.8562 - val_mae: 2.9886\n",
            "Epoch 145/500\n",
            "51/51 [==============================] - 0s 2ms/step - loss: 8.2190 - mae: 2.0639 - val_loss: 23.1636 - val_mae: 2.9904\n",
            "Epoch 146/500\n",
            "51/51 [==============================] - 0s 2ms/step - loss: 8.0967 - mae: 2.0616 - val_loss: 23.3462 - val_mae: 2.9952\n",
            "Epoch 147/500\n",
            "51/51 [==============================] - 0s 2ms/step - loss: 8.0992 - mae: 2.0610 - val_loss: 23.0833 - val_mae: 3.0144\n",
            "Epoch 148/500\n",
            "51/51 [==============================] - 0s 2ms/step - loss: 8.1992 - mae: 2.0582 - val_loss: 22.8660 - val_mae: 2.9896\n",
            "Epoch 149/500\n",
            "51/51 [==============================] - 0s 2ms/step - loss: 8.1155 - mae: 2.0552 - val_loss: 23.2184 - val_mae: 3.0312\n",
            "Epoch 150/500\n",
            "51/51 [==============================] - 0s 2ms/step - loss: 8.1543 - mae: 2.0519 - val_loss: 23.2586 - val_mae: 2.9914\n",
            "Epoch 151/500\n",
            "51/51 [==============================] - 0s 2ms/step - loss: 8.1707 - mae: 2.0487 - val_loss: 23.0561 - val_mae: 2.9938\n",
            "Epoch 152/500\n",
            "51/51 [==============================] - 0s 2ms/step - loss: 8.1502 - mae: 2.0559 - val_loss: 23.0478 - val_mae: 2.9934\n",
            "Epoch 153/500\n",
            "51/51 [==============================] - 0s 2ms/step - loss: 8.0603 - mae: 2.0450 - val_loss: 23.7925 - val_mae: 3.0312\n",
            "Epoch 154/500\n",
            "51/51 [==============================] - 0s 2ms/step - loss: 8.1295 - mae: 2.0609 - val_loss: 23.1010 - val_mae: 2.9979\n",
            "Epoch 155/500\n",
            "51/51 [==============================] - 0s 2ms/step - loss: 8.1405 - mae: 2.0455 - val_loss: 22.9976 - val_mae: 2.9932\n",
            "Epoch 156/500\n",
            "51/51 [==============================] - 0s 2ms/step - loss: 8.1426 - mae: 2.0584 - val_loss: 22.5749 - val_mae: 2.9850\n",
            "Epoch 157/500\n",
            "51/51 [==============================] - 0s 2ms/step - loss: 8.1160 - mae: 2.0448 - val_loss: 22.4247 - val_mae: 2.9807\n",
            "Epoch 158/500\n",
            "51/51 [==============================] - 0s 2ms/step - loss: 8.1090 - mae: 2.0428 - val_loss: 22.5216 - val_mae: 3.0111\n",
            "Epoch 159/500\n",
            "51/51 [==============================] - 0s 2ms/step - loss: 8.1436 - mae: 2.0667 - val_loss: 22.7975 - val_mae: 2.9789\n",
            "Epoch 160/500\n",
            "51/51 [==============================] - 0s 2ms/step - loss: 7.9909 - mae: 2.0553 - val_loss: 22.4632 - val_mae: 2.9865\n",
            "Epoch 161/500\n",
            "51/51 [==============================] - 0s 2ms/step - loss: 8.1253 - mae: 2.0352 - val_loss: 22.7902 - val_mae: 2.9925\n",
            "Epoch 162/500\n",
            "51/51 [==============================] - 0s 2ms/step - loss: 8.0981 - mae: 2.0298 - val_loss: 22.8142 - val_mae: 3.0137\n",
            "Epoch 163/500\n",
            "51/51 [==============================] - 0s 2ms/step - loss: 8.1361 - mae: 2.0328 - val_loss: 22.4500 - val_mae: 2.9636\n",
            "Epoch 164/500\n",
            "51/51 [==============================] - 0s 2ms/step - loss: 8.0460 - mae: 2.0439 - val_loss: 22.5118 - val_mae: 2.9703\n",
            "Epoch 165/500\n",
            "51/51 [==============================] - 0s 2ms/step - loss: 8.0905 - mae: 2.0466 - val_loss: 22.8063 - val_mae: 2.9725\n",
            "Epoch 166/500\n",
            "51/51 [==============================] - 0s 2ms/step - loss: 8.1445 - mae: 2.0383 - val_loss: 22.7432 - val_mae: 2.9722\n",
            "Epoch 167/500\n",
            "51/51 [==============================] - 0s 2ms/step - loss: 8.0526 - mae: 2.0356 - val_loss: 22.6648 - val_mae: 2.9760\n",
            "Epoch 168/500\n",
            "51/51 [==============================] - 0s 2ms/step - loss: 8.0361 - mae: 2.0201 - val_loss: 22.5744 - val_mae: 2.9911\n",
            "Epoch 169/500\n",
            "51/51 [==============================] - 0s 2ms/step - loss: 8.0564 - mae: 2.0129 - val_loss: 22.3094 - val_mae: 2.9816\n",
            "Epoch 170/500\n",
            "51/51 [==============================] - 0s 2ms/step - loss: 8.0619 - mae: 2.0179 - val_loss: 22.1729 - val_mae: 2.9654\n",
            "Epoch 171/500\n",
            "51/51 [==============================] - 0s 2ms/step - loss: 8.0269 - mae: 2.0360 - val_loss: 22.5911 - val_mae: 2.9810\n",
            "Epoch 172/500\n",
            "51/51 [==============================] - 0s 2ms/step - loss: 8.0251 - mae: 2.0176 - val_loss: 22.6921 - val_mae: 2.9806\n",
            "Epoch 173/500\n",
            "51/51 [==============================] - 0s 2ms/step - loss: 8.0352 - mae: 2.0133 - val_loss: 22.7369 - val_mae: 2.9723\n",
            "Epoch 174/500\n",
            "51/51 [==============================] - 0s 2ms/step - loss: 7.8826 - mae: 2.0224 - val_loss: 22.6277 - val_mae: 3.0367\n",
            "Epoch 175/500\n",
            "51/51 [==============================] - 0s 2ms/step - loss: 8.0229 - mae: 2.0329 - val_loss: 22.7261 - val_mae: 2.9738\n",
            "Epoch 176/500\n",
            "51/51 [==============================] - 0s 2ms/step - loss: 7.9159 - mae: 2.0050 - val_loss: 22.1739 - val_mae: 2.9895\n",
            "Epoch 177/500\n",
            "51/51 [==============================] - 0s 2ms/step - loss: 8.0481 - mae: 2.0097 - val_loss: 22.0081 - val_mae: 2.9578\n",
            "Epoch 178/500\n",
            "51/51 [==============================] - 0s 3ms/step - loss: 7.9798 - mae: 2.0115 - val_loss: 22.7983 - val_mae: 3.0000\n",
            "Epoch 179/500\n",
            "51/51 [==============================] - 0s 2ms/step - loss: 8.0560 - mae: 2.0240 - val_loss: 22.4684 - val_mae: 2.9628\n",
            "Epoch 180/500\n",
            "51/51 [==============================] - 0s 2ms/step - loss: 7.9870 - mae: 2.0098 - val_loss: 22.4195 - val_mae: 2.9567\n",
            "Epoch 181/500\n",
            "51/51 [==============================] - 0s 2ms/step - loss: 7.9997 - mae: 2.0122 - val_loss: 21.9890 - val_mae: 2.9453\n",
            "Epoch 182/500\n",
            "51/51 [==============================] - 0s 2ms/step - loss: 7.9937 - mae: 2.0201 - val_loss: 21.7677 - val_mae: 2.9508\n",
            "Epoch 183/500\n",
            "51/51 [==============================] - 0s 2ms/step - loss: 7.9909 - mae: 2.0158 - val_loss: 22.2061 - val_mae: 2.9499\n",
            "Epoch 184/500\n",
            "51/51 [==============================] - 0s 2ms/step - loss: 7.9752 - mae: 2.0240 - val_loss: 22.3186 - val_mae: 2.9551\n",
            "Epoch 185/500\n",
            "51/51 [==============================] - 0s 2ms/step - loss: 7.9413 - mae: 1.9997 - val_loss: 22.1994 - val_mae: 2.9542\n",
            "Epoch 186/500\n",
            "51/51 [==============================] - 0s 2ms/step - loss: 7.9034 - mae: 1.9962 - val_loss: 22.3274 - val_mae: 2.9557\n",
            "Epoch 187/500\n",
            "51/51 [==============================] - 0s 2ms/step - loss: 7.9430 - mae: 2.0046 - val_loss: 22.2412 - val_mae: 3.0007\n",
            "Epoch 188/500\n",
            "51/51 [==============================] - 0s 2ms/step - loss: 7.9049 - mae: 1.9949 - val_loss: 22.1487 - val_mae: 2.9608\n",
            "Epoch 189/500\n",
            "51/51 [==============================] - 0s 2ms/step - loss: 7.9906 - mae: 2.0123 - val_loss: 22.2067 - val_mae: 2.9559\n",
            "Epoch 190/500\n",
            "51/51 [==============================] - 0s 2ms/step - loss: 7.9450 - mae: 2.0141 - val_loss: 21.8913 - val_mae: 2.9658\n",
            "Epoch 191/500\n",
            "51/51 [==============================] - 0s 2ms/step - loss: 8.0018 - mae: 2.0109 - val_loss: 22.1278 - val_mae: 2.9523\n",
            "Epoch 192/500\n",
            "51/51 [==============================] - 0s 2ms/step - loss: 7.8889 - mae: 2.0279 - val_loss: 22.3004 - val_mae: 2.9917\n",
            "Epoch 193/500\n",
            "51/51 [==============================] - 0s 2ms/step - loss: 7.9772 - mae: 2.0221 - val_loss: 22.2470 - val_mae: 2.9550\n",
            "Epoch 194/500\n",
            "51/51 [==============================] - 0s 2ms/step - loss: 7.9313 - mae: 2.0019 - val_loss: 21.9226 - val_mae: 2.9487\n",
            "Epoch 195/500\n",
            "51/51 [==============================] - 0s 2ms/step - loss: 7.8582 - mae: 2.0063 - val_loss: 21.8964 - val_mae: 2.9742\n",
            "Epoch 196/500\n",
            "51/51 [==============================] - 0s 2ms/step - loss: 7.9597 - mae: 2.0110 - val_loss: 21.8805 - val_mae: 2.9414\n",
            "Epoch 197/500\n",
            "51/51 [==============================] - 0s 2ms/step - loss: 8.0318 - mae: 2.0086 - val_loss: 21.6758 - val_mae: 2.9387\n",
            "Epoch 198/500\n",
            "51/51 [==============================] - 0s 2ms/step - loss: 7.9942 - mae: 2.0046 - val_loss: 21.8373 - val_mae: 2.9695\n",
            "Epoch 199/500\n",
            "51/51 [==============================] - 0s 2ms/step - loss: 7.8650 - mae: 1.9879 - val_loss: 21.9406 - val_mae: 2.9710\n",
            "Epoch 200/500\n",
            "51/51 [==============================] - 0s 2ms/step - loss: 7.9368 - mae: 2.0145 - val_loss: 22.0563 - val_mae: 2.9587\n",
            "Epoch 201/500\n",
            "51/51 [==============================] - 0s 2ms/step - loss: 7.9776 - mae: 1.9982 - val_loss: 21.7074 - val_mae: 2.9419\n",
            "Epoch 202/500\n",
            "51/51 [==============================] - 0s 2ms/step - loss: 7.9229 - mae: 2.0070 - val_loss: 21.6859 - val_mae: 2.9478\n",
            "Epoch 203/500\n",
            "51/51 [==============================] - 0s 2ms/step - loss: 7.8881 - mae: 1.9915 - val_loss: 21.6256 - val_mae: 2.9341\n",
            "Epoch 204/500\n",
            "51/51 [==============================] - 0s 2ms/step - loss: 7.8432 - mae: 1.9898 - val_loss: 21.7764 - val_mae: 2.9772\n",
            "Epoch 205/500\n",
            "51/51 [==============================] - 0s 2ms/step - loss: 7.8788 - mae: 2.0005 - val_loss: 21.6227 - val_mae: 2.9315\n",
            "Epoch 206/500\n",
            "51/51 [==============================] - 0s 2ms/step - loss: 7.9427 - mae: 2.0089 - val_loss: 21.6697 - val_mae: 2.9348\n",
            "Epoch 207/500\n",
            "51/51 [==============================] - 0s 2ms/step - loss: 7.9590 - mae: 2.0011 - val_loss: 21.7705 - val_mae: 2.9406\n",
            "Epoch 208/500\n",
            "51/51 [==============================] - 0s 2ms/step - loss: 7.8038 - mae: 2.0129 - val_loss: 21.7241 - val_mae: 2.9368\n",
            "Epoch 209/500\n",
            "51/51 [==============================] - 0s 2ms/step - loss: 7.8873 - mae: 1.9806 - val_loss: 21.3932 - val_mae: 2.9494\n",
            "Epoch 210/500\n",
            "51/51 [==============================] - 0s 2ms/step - loss: 7.9048 - mae: 1.9918 - val_loss: 21.6902 - val_mae: 2.9317\n",
            "Epoch 211/500\n",
            "51/51 [==============================] - 0s 2ms/step - loss: 7.9122 - mae: 2.0017 - val_loss: 21.7614 - val_mae: 2.9380\n",
            "Epoch 212/500\n",
            "51/51 [==============================] - 0s 2ms/step - loss: 7.8701 - mae: 1.9912 - val_loss: 21.5696 - val_mae: 2.9442\n",
            "Epoch 213/500\n",
            "51/51 [==============================] - 0s 2ms/step - loss: 7.9906 - mae: 1.9885 - val_loss: 21.5972 - val_mae: 2.9449\n",
            "Epoch 214/500\n",
            "51/51 [==============================] - 0s 2ms/step - loss: 7.8481 - mae: 2.0036 - val_loss: 21.7801 - val_mae: 2.9885\n",
            "Epoch 215/500\n",
            "51/51 [==============================] - 0s 2ms/step - loss: 7.9142 - mae: 1.9913 - val_loss: 21.6246 - val_mae: 2.9503\n",
            "Epoch 216/500\n",
            "51/51 [==============================] - 0s 2ms/step - loss: 7.7737 - mae: 2.0010 - val_loss: 21.8438 - val_mae: 2.9358\n",
            "Epoch 217/500\n",
            "51/51 [==============================] - 0s 2ms/step - loss: 7.9122 - mae: 1.9941 - val_loss: 21.6569 - val_mae: 2.9255\n",
            "Epoch 218/500\n",
            "51/51 [==============================] - 0s 2ms/step - loss: 7.6980 - mae: 1.9893 - val_loss: 21.5924 - val_mae: 2.9333\n",
            "Epoch 219/500\n",
            "51/51 [==============================] - 0s 2ms/step - loss: 7.8042 - mae: 1.9799 - val_loss: 21.3184 - val_mae: 2.9559\n",
            "Epoch 220/500\n",
            "51/51 [==============================] - 0s 2ms/step - loss: 7.8326 - mae: 1.9767 - val_loss: 21.4569 - val_mae: 2.9207\n",
            "Epoch 221/500\n",
            "51/51 [==============================] - 0s 2ms/step - loss: 7.8053 - mae: 1.9901 - val_loss: 21.3558 - val_mae: 2.9420\n",
            "Epoch 222/500\n",
            "51/51 [==============================] - 0s 2ms/step - loss: 7.9117 - mae: 1.9977 - val_loss: 21.5322 - val_mae: 2.9184\n",
            "Epoch 223/500\n",
            "51/51 [==============================] - 0s 2ms/step - loss: 7.7690 - mae: 1.9854 - val_loss: 21.3422 - val_mae: 2.9400\n",
            "Epoch 224/500\n",
            "51/51 [==============================] - 0s 2ms/step - loss: 7.8956 - mae: 1.9839 - val_loss: 21.6271 - val_mae: 2.9273\n",
            "Epoch 225/500\n",
            "51/51 [==============================] - 0s 2ms/step - loss: 7.9100 - mae: 1.9985 - val_loss: 21.6302 - val_mae: 2.9343\n",
            "Epoch 226/500\n",
            "51/51 [==============================] - 0s 2ms/step - loss: 7.8641 - mae: 1.9900 - val_loss: 21.8255 - val_mae: 2.9557\n",
            "Epoch 227/500\n",
            "51/51 [==============================] - 0s 2ms/step - loss: 7.8152 - mae: 1.9906 - val_loss: 21.5523 - val_mae: 2.9464\n",
            "Epoch 228/500\n",
            "51/51 [==============================] - 0s 2ms/step - loss: 7.8493 - mae: 1.9626 - val_loss: 21.5051 - val_mae: 2.9198\n",
            "Epoch 229/500\n",
            "51/51 [==============================] - 0s 2ms/step - loss: 7.8481 - mae: 1.9828 - val_loss: 21.6900 - val_mae: 2.9296\n",
            "Epoch 230/500\n",
            "51/51 [==============================] - 0s 2ms/step - loss: 7.7746 - mae: 1.9545 - val_loss: 21.7173 - val_mae: 2.9492\n",
            "Epoch 231/500\n",
            "51/51 [==============================] - 0s 2ms/step - loss: 7.8584 - mae: 1.9921 - val_loss: 21.4225 - val_mae: 2.9535\n",
            "Epoch 232/500\n",
            "51/51 [==============================] - 0s 2ms/step - loss: 7.8802 - mae: 1.9733 - val_loss: 21.3739 - val_mae: 2.9148\n",
            "Epoch 233/500\n",
            "51/51 [==============================] - 0s 2ms/step - loss: 7.8096 - mae: 1.9795 - val_loss: 21.1743 - val_mae: 2.9152\n",
            "Epoch 234/500\n",
            "51/51 [==============================] - 0s 2ms/step - loss: 7.8884 - mae: 1.9860 - val_loss: 21.3590 - val_mae: 2.9186\n",
            "Epoch 235/500\n",
            "51/51 [==============================] - 0s 2ms/step - loss: 7.8304 - mae: 1.9816 - val_loss: 21.3541 - val_mae: 2.9382\n",
            "Epoch 236/500\n",
            "51/51 [==============================] - 0s 2ms/step - loss: 7.8807 - mae: 1.9827 - val_loss: 21.4274 - val_mae: 2.9320\n",
            "Epoch 237/500\n",
            "51/51 [==============================] - 0s 2ms/step - loss: 7.8342 - mae: 1.9730 - val_loss: 21.6984 - val_mae: 2.9335\n",
            "Epoch 238/500\n",
            "51/51 [==============================] - 0s 2ms/step - loss: 7.8345 - mae: 1.9715 - val_loss: 21.4218 - val_mae: 2.9124\n",
            "Epoch 239/500\n",
            "51/51 [==============================] - 0s 2ms/step - loss: 7.8315 - mae: 1.9708 - val_loss: 21.3729 - val_mae: 2.9090\n",
            "Epoch 240/500\n",
            "51/51 [==============================] - 0s 2ms/step - loss: 7.8214 - mae: 1.9772 - val_loss: 21.4987 - val_mae: 2.9185\n",
            "Epoch 241/500\n",
            "51/51 [==============================] - 0s 2ms/step - loss: 7.7910 - mae: 1.9813 - val_loss: 21.5259 - val_mae: 2.9715\n",
            "Epoch 242/500\n",
            "51/51 [==============================] - 0s 2ms/step - loss: 7.7991 - mae: 1.9701 - val_loss: 21.3009 - val_mae: 2.9094\n",
            "Epoch 243/500\n",
            "51/51 [==============================] - 0s 3ms/step - loss: 7.7102 - mae: 1.9847 - val_loss: 21.7053 - val_mae: 2.9956\n",
            "Epoch 244/500\n",
            "51/51 [==============================] - 0s 2ms/step - loss: 7.8325 - mae: 1.9847 - val_loss: 21.5525 - val_mae: 2.9179\n",
            "Epoch 245/500\n",
            "51/51 [==============================] - 0s 2ms/step - loss: 7.7227 - mae: 1.9576 - val_loss: 21.2887 - val_mae: 2.9046\n",
            "Epoch 246/500\n",
            "51/51 [==============================] - 0s 2ms/step - loss: 7.8188 - mae: 1.9753 - val_loss: 21.3511 - val_mae: 2.9109\n",
            "Epoch 247/500\n",
            "51/51 [==============================] - 0s 2ms/step - loss: 7.7611 - mae: 1.9771 - val_loss: 21.6710 - val_mae: 2.9883\n",
            "Epoch 248/500\n",
            "51/51 [==============================] - 0s 2ms/step - loss: 7.8560 - mae: 1.9743 - val_loss: 21.2276 - val_mae: 2.9098\n",
            "Epoch 249/500\n",
            "51/51 [==============================] - 0s 2ms/step - loss: 7.7879 - mae: 1.9609 - val_loss: 21.2961 - val_mae: 2.9044\n",
            "Epoch 250/500\n",
            "51/51 [==============================] - 0s 2ms/step - loss: 7.7735 - mae: 1.9808 - val_loss: 21.3665 - val_mae: 2.9467\n",
            "Epoch 251/500\n",
            "51/51 [==============================] - 0s 2ms/step - loss: 7.8278 - mae: 1.9769 - val_loss: 21.2718 - val_mae: 2.9299\n",
            "Epoch 252/500\n",
            "51/51 [==============================] - 0s 2ms/step - loss: 7.7442 - mae: 1.9707 - val_loss: 21.2244 - val_mae: 2.9236\n",
            "Epoch 253/500\n",
            "51/51 [==============================] - 0s 2ms/step - loss: 7.7768 - mae: 1.9631 - val_loss: 21.6428 - val_mae: 2.9202\n",
            "Epoch 254/500\n",
            "51/51 [==============================] - 0s 2ms/step - loss: 7.7948 - mae: 1.9950 - val_loss: 21.5656 - val_mae: 2.9232\n",
            "Epoch 255/500\n",
            "51/51 [==============================] - 0s 2ms/step - loss: 7.8057 - mae: 1.9767 - val_loss: 21.1405 - val_mae: 2.9025\n",
            "Epoch 256/500\n",
            "51/51 [==============================] - 0s 2ms/step - loss: 7.6420 - mae: 1.9689 - val_loss: 21.8963 - val_mae: 2.9413\n",
            "Epoch 257/500\n",
            "51/51 [==============================] - 0s 2ms/step - loss: 7.7655 - mae: 2.0065 - val_loss: 21.7546 - val_mae: 2.9178\n",
            "Epoch 258/500\n",
            "51/51 [==============================] - 0s 2ms/step - loss: 7.6550 - mae: 1.9606 - val_loss: 21.6213 - val_mae: 2.9062\n",
            "Epoch 259/500\n",
            "51/51 [==============================] - 0s 2ms/step - loss: 7.7072 - mae: 1.9548 - val_loss: 21.0108 - val_mae: 2.8949\n",
            "Epoch 260/500\n",
            "51/51 [==============================] - 0s 2ms/step - loss: 7.7479 - mae: 1.9749 - val_loss: 21.1506 - val_mae: 2.9453\n",
            "Epoch 261/500\n",
            "51/51 [==============================] - 0s 2ms/step - loss: 7.6792 - mae: 1.9535 - val_loss: 20.6363 - val_mae: 2.8947\n",
            "Epoch 262/500\n",
            "51/51 [==============================] - 0s 2ms/step - loss: 7.8295 - mae: 1.9773 - val_loss: 21.0817 - val_mae: 2.8951\n",
            "Epoch 263/500\n",
            "51/51 [==============================] - 0s 2ms/step - loss: 7.7438 - mae: 1.9790 - val_loss: 21.0436 - val_mae: 2.8887\n",
            "Epoch 264/500\n",
            "51/51 [==============================] - 0s 2ms/step - loss: 7.7316 - mae: 1.9901 - val_loss: 21.1297 - val_mae: 2.9431\n",
            "Epoch 265/500\n",
            "51/51 [==============================] - 0s 2ms/step - loss: 7.7392 - mae: 1.9366 - val_loss: 20.9746 - val_mae: 2.9145\n",
            "Epoch 266/500\n",
            "51/51 [==============================] - 0s 3ms/step - loss: 7.7851 - mae: 1.9737 - val_loss: 20.9280 - val_mae: 2.8899\n",
            "Epoch 267/500\n",
            "51/51 [==============================] - 0s 2ms/step - loss: 7.7416 - mae: 1.9690 - val_loss: 21.2057 - val_mae: 2.9242\n",
            "Epoch 268/500\n",
            "51/51 [==============================] - 0s 2ms/step - loss: 7.7142 - mae: 1.9620 - val_loss: 21.2458 - val_mae: 2.9436\n",
            "Epoch 269/500\n",
            "51/51 [==============================] - 0s 2ms/step - loss: 7.7024 - mae: 1.9789 - val_loss: 21.5716 - val_mae: 2.9329\n",
            "Epoch 270/500\n",
            "51/51 [==============================] - 0s 2ms/step - loss: 7.6532 - mae: 1.9723 - val_loss: 21.1769 - val_mae: 2.9124\n",
            "Epoch 271/500\n",
            "51/51 [==============================] - 0s 2ms/step - loss: 7.7437 - mae: 1.9655 - val_loss: 21.0857 - val_mae: 2.8975\n",
            "Epoch 272/500\n",
            "51/51 [==============================] - 0s 3ms/step - loss: 7.7429 - mae: 1.9571 - val_loss: 21.1151 - val_mae: 2.8963\n",
            "Epoch 273/500\n",
            "51/51 [==============================] - 0s 2ms/step - loss: 7.6887 - mae: 1.9724 - val_loss: 21.1474 - val_mae: 2.9447\n",
            "Epoch 274/500\n",
            "51/51 [==============================] - 0s 2ms/step - loss: 7.7515 - mae: 1.9625 - val_loss: 21.2132 - val_mae: 2.9458\n",
            "Epoch 275/500\n",
            "51/51 [==============================] - 0s 2ms/step - loss: 7.7458 - mae: 1.9690 - val_loss: 20.9461 - val_mae: 2.9093\n",
            "Epoch 276/500\n",
            "51/51 [==============================] - 0s 2ms/step - loss: 7.7840 - mae: 1.9837 - val_loss: 21.1624 - val_mae: 2.9344\n",
            "Epoch 277/500\n",
            "51/51 [==============================] - 0s 2ms/step - loss: 7.6713 - mae: 1.9391 - val_loss: 21.0174 - val_mae: 2.8924\n",
            "Epoch 278/500\n",
            "51/51 [==============================] - 0s 2ms/step - loss: 7.7569 - mae: 1.9688 - val_loss: 20.9165 - val_mae: 2.8974\n",
            "Epoch 279/500\n",
            "51/51 [==============================] - 0s 2ms/step - loss: 7.7398 - mae: 1.9760 - val_loss: 21.0547 - val_mae: 2.9332\n",
            "Epoch 280/500\n",
            "51/51 [==============================] - 0s 2ms/step - loss: 7.7284 - mae: 1.9724 - val_loss: 21.2621 - val_mae: 2.9490\n",
            "Epoch 281/500\n",
            "51/51 [==============================] - 0s 2ms/step - loss: 7.7262 - mae: 1.9568 - val_loss: 20.8275 - val_mae: 2.8988\n",
            "Epoch 282/500\n",
            "51/51 [==============================] - 0s 2ms/step - loss: 7.7225 - mae: 1.9721 - val_loss: 21.0101 - val_mae: 2.9411\n",
            "Epoch 283/500\n",
            "51/51 [==============================] - 0s 2ms/step - loss: 7.7187 - mae: 1.9579 - val_loss: 21.0048 - val_mae: 2.9266\n",
            "Epoch 284/500\n",
            "51/51 [==============================] - 0s 2ms/step - loss: 7.6830 - mae: 1.9556 - val_loss: 21.0414 - val_mae: 2.8979\n",
            "Epoch 285/500\n",
            "51/51 [==============================] - 0s 2ms/step - loss: 7.7274 - mae: 1.9547 - val_loss: 21.0028 - val_mae: 2.9224\n",
            "Epoch 286/500\n",
            "51/51 [==============================] - 0s 2ms/step - loss: 7.6637 - mae: 1.9367 - val_loss: 20.8740 - val_mae: 2.9139\n",
            "Epoch 287/500\n",
            "51/51 [==============================] - 0s 2ms/step - loss: 7.7306 - mae: 1.9577 - val_loss: 20.9108 - val_mae: 2.9286\n",
            "Epoch 288/500\n",
            "51/51 [==============================] - 0s 2ms/step - loss: 7.7335 - mae: 1.9598 - val_loss: 20.6561 - val_mae: 2.8824\n",
            "Epoch 289/500\n",
            "51/51 [==============================] - 0s 2ms/step - loss: 7.6939 - mae: 1.9534 - val_loss: 20.7664 - val_mae: 2.8920\n",
            "Epoch 290/500\n",
            "51/51 [==============================] - 0s 3ms/step - loss: 7.6457 - mae: 1.9508 - val_loss: 20.8504 - val_mae: 2.8799\n",
            "Epoch 291/500\n",
            "51/51 [==============================] - 0s 2ms/step - loss: 7.7504 - mae: 1.9592 - val_loss: 20.7573 - val_mae: 2.8799\n",
            "Epoch 292/500\n",
            "51/51 [==============================] - 0s 2ms/step - loss: 7.6719 - mae: 1.9596 - val_loss: 20.9542 - val_mae: 2.9394\n",
            "Epoch 293/500\n",
            "51/51 [==============================] - 0s 2ms/step - loss: 7.6652 - mae: 1.9280 - val_loss: 20.5157 - val_mae: 2.8654\n",
            "Epoch 294/500\n",
            "51/51 [==============================] - 0s 2ms/step - loss: 7.6246 - mae: 1.9552 - val_loss: 20.4119 - val_mae: 2.8773\n",
            "Epoch 295/500\n",
            "51/51 [==============================] - 0s 2ms/step - loss: 7.7041 - mae: 1.9513 - val_loss: 20.6303 - val_mae: 2.9298\n",
            "Epoch 296/500\n",
            "51/51 [==============================] - 0s 2ms/step - loss: 7.6478 - mae: 1.9368 - val_loss: 20.7500 - val_mae: 2.9221\n",
            "Epoch 297/500\n",
            "51/51 [==============================] - 0s 2ms/step - loss: 7.6508 - mae: 1.9488 - val_loss: 20.6209 - val_mae: 2.9102\n",
            "Epoch 298/500\n",
            "51/51 [==============================] - 0s 2ms/step - loss: 7.5777 - mae: 1.9560 - val_loss: 20.9346 - val_mae: 2.9310\n",
            "Epoch 299/500\n",
            "51/51 [==============================] - 0s 3ms/step - loss: 7.6492 - mae: 1.9445 - val_loss: 20.8076 - val_mae: 2.8850\n",
            "Epoch 300/500\n",
            "51/51 [==============================] - 0s 2ms/step - loss: 7.6443 - mae: 1.9546 - val_loss: 20.6066 - val_mae: 2.8767\n",
            "Epoch 301/500\n",
            "51/51 [==============================] - 0s 2ms/step - loss: 7.6182 - mae: 1.9392 - val_loss: 20.5572 - val_mae: 2.8627\n",
            "Epoch 302/500\n",
            "51/51 [==============================] - 0s 2ms/step - loss: 7.6303 - mae: 1.9502 - val_loss: 20.3849 - val_mae: 2.8592\n",
            "Epoch 303/500\n",
            "51/51 [==============================] - 0s 2ms/step - loss: 7.6260 - mae: 1.9338 - val_loss: 20.7314 - val_mae: 2.8840\n",
            "Epoch 304/500\n",
            "51/51 [==============================] - 0s 2ms/step - loss: 7.5598 - mae: 1.9472 - val_loss: 21.0928 - val_mae: 2.9564\n",
            "Epoch 305/500\n",
            "51/51 [==============================] - 0s 2ms/step - loss: 7.7268 - mae: 1.9459 - val_loss: 20.5664 - val_mae: 2.8760\n",
            "Epoch 306/500\n",
            "51/51 [==============================] - 0s 2ms/step - loss: 7.6122 - mae: 1.9471 - val_loss: 20.7658 - val_mae: 2.9115\n",
            "Epoch 307/500\n",
            "51/51 [==============================] - 0s 2ms/step - loss: 7.5898 - mae: 1.9421 - val_loss: 20.7110 - val_mae: 2.8750\n",
            "Epoch 308/500\n",
            "51/51 [==============================] - 0s 3ms/step - loss: 7.5697 - mae: 1.9405 - val_loss: 20.7033 - val_mae: 2.8842\n",
            "Epoch 309/500\n",
            "51/51 [==============================] - 0s 2ms/step - loss: 7.5746 - mae: 1.9272 - val_loss: 20.2783 - val_mae: 2.8603\n",
            "Epoch 310/500\n",
            "51/51 [==============================] - 0s 2ms/step - loss: 7.5728 - mae: 1.9360 - val_loss: 20.2979 - val_mae: 2.8654\n",
            "Epoch 311/500\n",
            "51/51 [==============================] - 0s 2ms/step - loss: 7.6278 - mae: 1.9434 - val_loss: 20.4257 - val_mae: 2.8550\n",
            "Epoch 312/500\n",
            "51/51 [==============================] - 0s 2ms/step - loss: 7.5176 - mae: 1.9342 - val_loss: 20.6360 - val_mae: 2.9311\n",
            "Epoch 313/500\n",
            "51/51 [==============================] - 0s 2ms/step - loss: 7.6128 - mae: 1.9431 - val_loss: 20.3980 - val_mae: 2.8727\n",
            "Epoch 314/500\n",
            "51/51 [==============================] - 0s 3ms/step - loss: 7.5783 - mae: 1.9419 - val_loss: 20.2619 - val_mae: 2.8617\n",
            "Epoch 315/500\n",
            "51/51 [==============================] - 0s 2ms/step - loss: 7.5160 - mae: 1.9391 - val_loss: 20.6539 - val_mae: 2.9174\n",
            "Epoch 316/500\n",
            "51/51 [==============================] - 0s 2ms/step - loss: 7.5569 - mae: 1.9343 - val_loss: 20.2978 - val_mae: 2.8522\n",
            "Epoch 317/500\n",
            "51/51 [==============================] - 0s 2ms/step - loss: 7.5808 - mae: 1.9430 - val_loss: 20.3517 - val_mae: 2.8640\n",
            "Epoch 318/500\n",
            "51/51 [==============================] - 0s 2ms/step - loss: 7.5431 - mae: 1.9476 - val_loss: 20.4734 - val_mae: 2.8945\n",
            "Epoch 319/500\n",
            "51/51 [==============================] - 0s 2ms/step - loss: 7.5780 - mae: 1.9328 - val_loss: 20.3011 - val_mae: 2.8471\n",
            "Epoch 320/500\n",
            "51/51 [==============================] - 0s 2ms/step - loss: 7.5414 - mae: 1.9371 - val_loss: 20.2952 - val_mae: 2.8520\n",
            "Epoch 321/500\n",
            "51/51 [==============================] - 0s 2ms/step - loss: 7.5566 - mae: 1.9466 - val_loss: 20.4519 - val_mae: 2.8704\n",
            "Epoch 322/500\n",
            "51/51 [==============================] - 0s 2ms/step - loss: 7.6316 - mae: 1.9290 - val_loss: 20.2684 - val_mae: 2.8577\n",
            "Epoch 323/500\n",
            "51/51 [==============================] - 0s 2ms/step - loss: 7.5727 - mae: 1.9458 - val_loss: 20.1928 - val_mae: 2.8481\n",
            "Epoch 324/500\n",
            "51/51 [==============================] - 0s 2ms/step - loss: 7.5455 - mae: 1.9563 - val_loss: 20.2254 - val_mae: 2.8730\n",
            "Epoch 325/500\n",
            "51/51 [==============================] - 0s 2ms/step - loss: 7.5906 - mae: 1.9205 - val_loss: 19.9557 - val_mae: 2.8449\n",
            "Epoch 326/500\n",
            "51/51 [==============================] - 0s 2ms/step - loss: 7.5054 - mae: 1.9317 - val_loss: 20.0486 - val_mae: 2.8684\n",
            "Epoch 327/500\n",
            "51/51 [==============================] - 0s 2ms/step - loss: 7.4721 - mae: 1.9461 - val_loss: 20.2629 - val_mae: 2.8567\n",
            "Epoch 328/500\n",
            "51/51 [==============================] - 0s 2ms/step - loss: 7.5239 - mae: 1.9453 - val_loss: 20.3856 - val_mae: 2.8963\n",
            "Epoch 329/500\n",
            "51/51 [==============================] - 0s 2ms/step - loss: 7.4913 - mae: 1.9289 - val_loss: 20.5244 - val_mae: 2.9056\n",
            "Epoch 330/500\n",
            "51/51 [==============================] - 0s 3ms/step - loss: 7.5545 - mae: 1.9486 - val_loss: 20.3253 - val_mae: 2.8598\n",
            "Epoch 331/500\n",
            "51/51 [==============================] - 0s 2ms/step - loss: 7.4129 - mae: 1.9275 - val_loss: 20.4646 - val_mae: 2.8849\n",
            "Epoch 332/500\n",
            "51/51 [==============================] - 0s 2ms/step - loss: 7.4670 - mae: 1.9380 - val_loss: 20.0946 - val_mae: 2.8388\n",
            "Epoch 333/500\n",
            "51/51 [==============================] - 0s 2ms/step - loss: 7.4401 - mae: 1.9301 - val_loss: 20.2414 - val_mae: 2.8638\n",
            "Epoch 334/500\n",
            "51/51 [==============================] - 0s 2ms/step - loss: 7.4504 - mae: 1.9289 - val_loss: 20.0567 - val_mae: 2.8608\n",
            "Epoch 335/500\n",
            "51/51 [==============================] - 0s 2ms/step - loss: 7.5031 - mae: 1.9330 - val_loss: 20.1005 - val_mae: 2.8463\n",
            "Epoch 336/500\n",
            "51/51 [==============================] - 0s 2ms/step - loss: 7.5294 - mae: 1.9424 - val_loss: 20.1262 - val_mae: 2.8476\n",
            "Epoch 337/500\n",
            "51/51 [==============================] - 0s 2ms/step - loss: 7.3984 - mae: 1.9235 - val_loss: 20.4107 - val_mae: 2.8681\n",
            "Epoch 338/500\n",
            "51/51 [==============================] - 0s 2ms/step - loss: 7.5075 - mae: 1.9326 - val_loss: 20.0426 - val_mae: 2.8284\n",
            "Epoch 339/500\n",
            "51/51 [==============================] - 0s 2ms/step - loss: 7.5288 - mae: 1.9347 - val_loss: 19.9421 - val_mae: 2.8372\n",
            "Epoch 340/500\n",
            "51/51 [==============================] - 0s 2ms/step - loss: 7.4875 - mae: 1.9084 - val_loss: 19.8718 - val_mae: 2.8206\n",
            "Epoch 341/500\n",
            "51/51 [==============================] - 0s 2ms/step - loss: 7.4363 - mae: 1.9327 - val_loss: 20.1794 - val_mae: 2.8561\n",
            "Epoch 342/500\n",
            "51/51 [==============================] - 0s 2ms/step - loss: 7.4972 - mae: 1.9180 - val_loss: 20.0918 - val_mae: 2.8374\n",
            "Epoch 343/500\n",
            "51/51 [==============================] - 0s 2ms/step - loss: 7.4387 - mae: 1.9377 - val_loss: 19.7524 - val_mae: 2.8459\n",
            "Epoch 344/500\n",
            "51/51 [==============================] - 0s 2ms/step - loss: 7.4269 - mae: 1.9220 - val_loss: 19.8551 - val_mae: 2.8402\n",
            "Epoch 345/500\n",
            "51/51 [==============================] - 0s 3ms/step - loss: 7.4916 - mae: 1.9322 - val_loss: 19.9543 - val_mae: 2.8313\n",
            "Epoch 346/500\n",
            "51/51 [==============================] - 0s 2ms/step - loss: 7.4632 - mae: 1.9325 - val_loss: 19.7626 - val_mae: 2.8285\n",
            "Epoch 347/500\n",
            "51/51 [==============================] - 0s 2ms/step - loss: 7.4345 - mae: 1.9266 - val_loss: 20.0169 - val_mae: 2.8307\n",
            "Epoch 348/500\n",
            "51/51 [==============================] - 0s 2ms/step - loss: 7.3828 - mae: 1.9274 - val_loss: 20.4444 - val_mae: 2.9068\n",
            "Epoch 349/500\n",
            "51/51 [==============================] - 0s 2ms/step - loss: 7.4240 - mae: 1.9063 - val_loss: 20.1883 - val_mae: 2.8851\n",
            "Epoch 350/500\n",
            "51/51 [==============================] - 0s 2ms/step - loss: 7.4404 - mae: 1.9305 - val_loss: 19.7855 - val_mae: 2.8252\n",
            "Epoch 351/500\n",
            "51/51 [==============================] - 0s 2ms/step - loss: 7.4411 - mae: 1.9281 - val_loss: 19.9296 - val_mae: 2.8335\n",
            "Epoch 352/500\n",
            "51/51 [==============================] - 0s 3ms/step - loss: 7.4203 - mae: 1.9194 - val_loss: 20.0332 - val_mae: 2.8351\n",
            "Epoch 353/500\n",
            "51/51 [==============================] - 0s 3ms/step - loss: 7.3440 - mae: 1.9010 - val_loss: 19.9305 - val_mae: 2.8245\n",
            "Epoch 354/500\n",
            "51/51 [==============================] - 0s 2ms/step - loss: 7.4831 - mae: 1.9316 - val_loss: 19.8924 - val_mae: 2.8287\n",
            "Epoch 355/500\n",
            "51/51 [==============================] - 0s 2ms/step - loss: 7.3839 - mae: 1.9096 - val_loss: 19.8259 - val_mae: 2.8330\n",
            "Epoch 356/500\n",
            "51/51 [==============================] - 0s 2ms/step - loss: 7.4235 - mae: 1.9253 - val_loss: 19.9472 - val_mae: 2.8450\n",
            "Epoch 357/500\n",
            "51/51 [==============================] - 0s 2ms/step - loss: 7.3956 - mae: 1.9286 - val_loss: 19.9963 - val_mae: 2.8350\n",
            "Epoch 358/500\n",
            "51/51 [==============================] - 0s 3ms/step - loss: 7.3581 - mae: 1.9404 - val_loss: 20.1691 - val_mae: 2.8720\n",
            "Epoch 359/500\n",
            "51/51 [==============================] - 0s 2ms/step - loss: 7.4160 - mae: 1.9265 - val_loss: 19.9903 - val_mae: 2.8448\n",
            "Epoch 360/500\n",
            "51/51 [==============================] - 0s 2ms/step - loss: 7.4016 - mae: 1.9212 - val_loss: 19.6786 - val_mae: 2.8124\n",
            "Epoch 361/500\n",
            "51/51 [==============================] - 0s 2ms/step - loss: 7.4419 - mae: 1.9204 - val_loss: 19.7323 - val_mae: 2.8193\n",
            "Epoch 362/500\n",
            "51/51 [==============================] - 0s 2ms/step - loss: 7.3456 - mae: 1.9213 - val_loss: 19.9179 - val_mae: 2.8295\n",
            "Epoch 363/500\n",
            "51/51 [==============================] - 0s 2ms/step - loss: 7.3844 - mae: 1.9144 - val_loss: 19.9649 - val_mae: 2.8232\n",
            "Epoch 364/500\n",
            "51/51 [==============================] - 0s 2ms/step - loss: 7.3574 - mae: 1.9038 - val_loss: 19.9880 - val_mae: 2.8396\n",
            "Epoch 365/500\n",
            "51/51 [==============================] - 0s 3ms/step - loss: 7.3660 - mae: 1.9096 - val_loss: 19.7892 - val_mae: 2.8384\n",
            "Epoch 366/500\n",
            "51/51 [==============================] - 0s 2ms/step - loss: 7.4577 - mae: 1.9197 - val_loss: 19.8178 - val_mae: 2.8274\n",
            "Epoch 367/500\n",
            "51/51 [==============================] - 0s 3ms/step - loss: 7.3229 - mae: 1.9269 - val_loss: 20.0019 - val_mae: 2.8806\n",
            "Epoch 368/500\n",
            "51/51 [==============================] - 0s 2ms/step - loss: 7.3098 - mae: 1.8980 - val_loss: 19.9764 - val_mae: 2.8280\n",
            "Epoch 369/500\n",
            "51/51 [==============================] - 0s 2ms/step - loss: 7.3203 - mae: 1.9204 - val_loss: 19.9219 - val_mae: 2.8633\n",
            "Epoch 370/500\n",
            "51/51 [==============================] - 0s 2ms/step - loss: 7.3859 - mae: 1.9120 - val_loss: 19.7371 - val_mae: 2.8212\n",
            "Epoch 371/500\n",
            "51/51 [==============================] - 0s 2ms/step - loss: 7.3309 - mae: 1.9132 - val_loss: 19.7520 - val_mae: 2.8192\n",
            "Epoch 372/500\n",
            "51/51 [==============================] - 0s 2ms/step - loss: 7.3384 - mae: 1.9245 - val_loss: 20.0001 - val_mae: 2.8829\n",
            "Epoch 373/500\n",
            "51/51 [==============================] - 0s 2ms/step - loss: 7.4294 - mae: 1.9087 - val_loss: 19.4700 - val_mae: 2.8109\n",
            "Epoch 374/500\n",
            "51/51 [==============================] - 0s 2ms/step - loss: 7.3091 - mae: 1.9208 - val_loss: 19.9171 - val_mae: 2.8696\n",
            "Epoch 375/500\n",
            "51/51 [==============================] - 0s 2ms/step - loss: 7.3812 - mae: 1.9083 - val_loss: 19.7443 - val_mae: 2.8345\n",
            "Epoch 376/500\n",
            "51/51 [==============================] - 0s 2ms/step - loss: 7.3202 - mae: 1.9045 - val_loss: 19.7376 - val_mae: 2.8439\n",
            "Epoch 377/500\n",
            "51/51 [==============================] - 0s 3ms/step - loss: 7.3604 - mae: 1.9227 - val_loss: 19.8030 - val_mae: 2.8647\n",
            "Epoch 378/500\n",
            "51/51 [==============================] - 0s 2ms/step - loss: 7.2662 - mae: 1.9027 - val_loss: 19.6470 - val_mae: 2.8648\n",
            "Epoch 379/500\n",
            "51/51 [==============================] - 0s 2ms/step - loss: 7.3854 - mae: 1.9206 - val_loss: 19.8583 - val_mae: 2.8531\n",
            "Epoch 380/500\n",
            "51/51 [==============================] - 0s 2ms/step - loss: 7.3859 - mae: 1.9248 - val_loss: 19.9251 - val_mae: 2.8426\n",
            "Epoch 381/500\n",
            "51/51 [==============================] - 0s 2ms/step - loss: 7.2593 - mae: 1.9200 - val_loss: 20.2000 - val_mae: 2.9065\n",
            "Epoch 382/500\n",
            "51/51 [==============================] - 0s 2ms/step - loss: 7.3236 - mae: 1.9112 - val_loss: 19.7560 - val_mae: 2.8289\n",
            "Epoch 383/500\n",
            "51/51 [==============================] - 0s 2ms/step - loss: 7.3294 - mae: 1.9111 - val_loss: 19.6713 - val_mae: 2.8594\n",
            "Epoch 384/500\n",
            "51/51 [==============================] - 0s 3ms/step - loss: 7.3271 - mae: 1.9183 - val_loss: 19.5421 - val_mae: 2.8306\n",
            "Epoch 385/500\n",
            "51/51 [==============================] - 0s 2ms/step - loss: 7.2872 - mae: 1.9169 - val_loss: 19.6811 - val_mae: 2.8440\n",
            "Epoch 386/500\n",
            "51/51 [==============================] - 0s 2ms/step - loss: 7.3824 - mae: 1.9121 - val_loss: 19.8631 - val_mae: 2.8648\n",
            "Epoch 387/500\n",
            "51/51 [==============================] - 0s 2ms/step - loss: 7.2657 - mae: 1.9029 - val_loss: 20.1083 - val_mae: 2.8751\n",
            "Epoch 388/500\n",
            "51/51 [==============================] - 0s 2ms/step - loss: 7.2244 - mae: 1.9213 - val_loss: 20.4925 - val_mae: 2.9340\n",
            "Epoch 389/500\n",
            "51/51 [==============================] - 0s 2ms/step - loss: 7.2228 - mae: 1.9054 - val_loss: 19.7937 - val_mae: 2.8696\n",
            "Epoch 390/500\n",
            "51/51 [==============================] - 0s 2ms/step - loss: 7.2541 - mae: 1.9231 - val_loss: 19.7203 - val_mae: 2.8267\n",
            "Epoch 391/500\n",
            "51/51 [==============================] - 0s 2ms/step - loss: 7.2451 - mae: 1.9077 - val_loss: 19.9590 - val_mae: 2.8601\n",
            "Epoch 392/500\n",
            "51/51 [==============================] - 0s 3ms/step - loss: 7.2293 - mae: 1.8957 - val_loss: 19.9584 - val_mae: 2.8243\n",
            "Epoch 393/500\n",
            "51/51 [==============================] - 0s 2ms/step - loss: 7.1693 - mae: 1.8909 - val_loss: 19.7010 - val_mae: 2.8668\n",
            "Epoch 394/500\n",
            "51/51 [==============================] - 0s 2ms/step - loss: 7.3208 - mae: 1.8974 - val_loss: 19.2043 - val_mae: 2.7986\n",
            "Epoch 395/500\n",
            "51/51 [==============================] - 0s 2ms/step - loss: 7.3203 - mae: 1.9045 - val_loss: 19.3978 - val_mae: 2.8054\n",
            "Epoch 396/500\n",
            "51/51 [==============================] - 0s 2ms/step - loss: 7.2941 - mae: 1.9055 - val_loss: 19.5272 - val_mae: 2.8184\n",
            "Epoch 397/500\n",
            "51/51 [==============================] - 0s 2ms/step - loss: 7.2416 - mae: 1.9065 - val_loss: 19.3216 - val_mae: 2.8330\n",
            "Epoch 398/500\n",
            "51/51 [==============================] - 0s 2ms/step - loss: 7.2799 - mae: 1.9077 - val_loss: 19.6629 - val_mae: 2.8333\n",
            "Epoch 399/500\n",
            "51/51 [==============================] - 0s 2ms/step - loss: 7.2039 - mae: 1.8775 - val_loss: 19.8464 - val_mae: 2.8178\n",
            "Epoch 400/500\n",
            "51/51 [==============================] - 0s 2ms/step - loss: 7.2508 - mae: 1.9057 - val_loss: 19.5799 - val_mae: 2.8577\n",
            "Epoch 401/500\n",
            "51/51 [==============================] - 0s 2ms/step - loss: 7.2436 - mae: 1.9116 - val_loss: 19.7112 - val_mae: 2.8332\n",
            "Epoch 402/500\n",
            "51/51 [==============================] - 0s 2ms/step - loss: 7.2173 - mae: 1.9094 - val_loss: 19.5998 - val_mae: 2.8223\n",
            "Epoch 403/500\n",
            "51/51 [==============================] - 0s 2ms/step - loss: 7.1855 - mae: 1.8966 - val_loss: 19.7960 - val_mae: 2.8582\n",
            "Epoch 404/500\n",
            "51/51 [==============================] - 0s 2ms/step - loss: 7.2387 - mae: 1.8887 - val_loss: 19.6143 - val_mae: 2.8349\n",
            "Epoch 405/500\n",
            "51/51 [==============================] - 0s 2ms/step - loss: 7.2818 - mae: 1.9099 - val_loss: 19.4259 - val_mae: 2.8118\n",
            "Epoch 406/500\n",
            "51/51 [==============================] - 0s 2ms/step - loss: 7.2217 - mae: 1.8971 - val_loss: 19.3329 - val_mae: 2.8088\n",
            "Epoch 407/500\n",
            "51/51 [==============================] - 0s 3ms/step - loss: 7.2289 - mae: 1.9233 - val_loss: 19.0812 - val_mae: 2.8124\n",
            "Epoch 408/500\n",
            "51/51 [==============================] - 0s 2ms/step - loss: 7.2364 - mae: 1.9040 - val_loss: 19.5346 - val_mae: 2.8485\n",
            "Epoch 409/500\n",
            "51/51 [==============================] - 0s 2ms/step - loss: 7.2362 - mae: 1.8923 - val_loss: 19.2694 - val_mae: 2.8207\n",
            "Epoch 410/500\n",
            "51/51 [==============================] - 0s 2ms/step - loss: 7.2430 - mae: 1.8957 - val_loss: 19.3068 - val_mae: 2.8287\n",
            "Epoch 411/500\n",
            "51/51 [==============================] - 0s 2ms/step - loss: 7.2300 - mae: 1.9082 - val_loss: 19.3275 - val_mae: 2.8325\n",
            "Epoch 412/500\n",
            "51/51 [==============================] - 0s 2ms/step - loss: 7.1767 - mae: 1.9127 - val_loss: 19.7980 - val_mae: 2.9001\n",
            "Epoch 413/500\n",
            "51/51 [==============================] - 0s 2ms/step - loss: 7.2289 - mae: 1.9064 - val_loss: 19.5231 - val_mae: 2.8930\n",
            "Epoch 414/500\n",
            "51/51 [==============================] - 0s 2ms/step - loss: 7.2729 - mae: 1.9019 - val_loss: 19.2167 - val_mae: 2.8069\n",
            "Epoch 415/500\n",
            "51/51 [==============================] - 0s 3ms/step - loss: 7.1962 - mae: 1.9130 - val_loss: 19.4116 - val_mae: 2.8093\n",
            "Epoch 416/500\n",
            "51/51 [==============================] - 0s 2ms/step - loss: 7.1608 - mae: 1.9060 - val_loss: 19.0557 - val_mae: 2.8137\n",
            "Epoch 417/500\n",
            "51/51 [==============================] - 0s 2ms/step - loss: 7.1661 - mae: 1.8989 - val_loss: 19.4573 - val_mae: 2.8025\n",
            "Epoch 418/500\n",
            "51/51 [==============================] - 0s 2ms/step - loss: 7.1756 - mae: 1.9056 - val_loss: 19.5658 - val_mae: 2.8043\n",
            "Epoch 419/500\n",
            "51/51 [==============================] - 0s 2ms/step - loss: 7.2357 - mae: 1.9130 - val_loss: 19.6068 - val_mae: 2.8452\n",
            "Epoch 420/500\n",
            "51/51 [==============================] - 0s 2ms/step - loss: 7.1819 - mae: 1.8960 - val_loss: 19.4079 - val_mae: 2.8321\n",
            "Epoch 421/500\n",
            "51/51 [==============================] - 0s 2ms/step - loss: 7.1346 - mae: 1.9033 - val_loss: 19.8304 - val_mae: 2.8307\n",
            "Epoch 422/500\n",
            "51/51 [==============================] - 0s 2ms/step - loss: 7.1505 - mae: 1.9021 - val_loss: 19.7891 - val_mae: 2.8755\n",
            "Epoch 423/500\n",
            "51/51 [==============================] - 0s 2ms/step - loss: 7.1941 - mae: 1.8990 - val_loss: 19.6153 - val_mae: 2.8812\n",
            "Epoch 424/500\n",
            "51/51 [==============================] - 0s 2ms/step - loss: 7.2209 - mae: 1.8958 - val_loss: 19.1683 - val_mae: 2.7991\n",
            "Epoch 425/500\n",
            "51/51 [==============================] - 0s 2ms/step - loss: 7.2063 - mae: 1.9001 - val_loss: 19.3295 - val_mae: 2.8152\n",
            "Epoch 426/500\n",
            "51/51 [==============================] - 0s 2ms/step - loss: 7.1947 - mae: 1.8966 - val_loss: 19.2713 - val_mae: 2.7977\n",
            "Epoch 427/500\n",
            "51/51 [==============================] - 0s 2ms/step - loss: 7.1419 - mae: 1.9000 - val_loss: 19.3033 - val_mae: 2.8132\n",
            "Epoch 428/500\n",
            "51/51 [==============================] - 0s 2ms/step - loss: 7.1131 - mae: 1.9024 - val_loss: 19.4230 - val_mae: 2.8145\n",
            "Epoch 429/500\n",
            "51/51 [==============================] - 0s 2ms/step - loss: 7.1552 - mae: 1.8945 - val_loss: 19.1385 - val_mae: 2.8063\n",
            "Epoch 430/500\n",
            "51/51 [==============================] - 0s 3ms/step - loss: 7.1294 - mae: 1.8944 - val_loss: 19.0734 - val_mae: 2.7947\n",
            "Epoch 431/500\n",
            "51/51 [==============================] - 0s 2ms/step - loss: 7.1261 - mae: 1.8966 - val_loss: 19.2736 - val_mae: 2.8094\n",
            "Epoch 432/500\n",
            "51/51 [==============================] - 0s 2ms/step - loss: 7.0210 - mae: 1.8833 - val_loss: 19.0874 - val_mae: 2.8453\n",
            "Epoch 433/500\n",
            "51/51 [==============================] - 0s 2ms/step - loss: 7.1422 - mae: 1.9005 - val_loss: 19.3542 - val_mae: 2.8352\n",
            "Epoch 434/500\n",
            "51/51 [==============================] - 0s 2ms/step - loss: 7.1242 - mae: 1.8904 - val_loss: 19.1878 - val_mae: 2.8026\n",
            "Epoch 435/500\n",
            "51/51 [==============================] - 0s 3ms/step - loss: 7.1481 - mae: 1.8990 - val_loss: 19.2446 - val_mae: 2.7983\n",
            "Epoch 436/500\n",
            "51/51 [==============================] - 0s 2ms/step - loss: 7.0401 - mae: 1.8894 - val_loss: 19.7665 - val_mae: 2.8847\n",
            "Epoch 437/500\n",
            "51/51 [==============================] - 0s 2ms/step - loss: 7.1661 - mae: 1.9040 - val_loss: 19.4835 - val_mae: 2.8341\n",
            "Epoch 438/500\n",
            "51/51 [==============================] - 0s 2ms/step - loss: 7.0739 - mae: 1.9047 - val_loss: 19.5399 - val_mae: 2.8585\n",
            "Epoch 439/500\n",
            "51/51 [==============================] - 0s 2ms/step - loss: 7.2050 - mae: 1.8992 - val_loss: 19.2083 - val_mae: 2.7969\n",
            "Epoch 440/500\n",
            "51/51 [==============================] - 0s 2ms/step - loss: 7.1120 - mae: 1.8965 - val_loss: 19.5613 - val_mae: 2.8286\n",
            "Epoch 441/500\n",
            "51/51 [==============================] - 0s 2ms/step - loss: 7.0820 - mae: 1.8950 - val_loss: 19.3180 - val_mae: 2.8390\n",
            "Epoch 442/500\n",
            "51/51 [==============================] - 0s 2ms/step - loss: 7.1672 - mae: 1.8878 - val_loss: 19.0619 - val_mae: 2.7963\n",
            "Epoch 443/500\n",
            "51/51 [==============================] - 0s 2ms/step - loss: 7.1048 - mae: 1.8680 - val_loss: 19.2520 - val_mae: 2.7967\n",
            "Epoch 444/500\n",
            "51/51 [==============================] - 0s 3ms/step - loss: 7.1390 - mae: 1.8838 - val_loss: 19.2981 - val_mae: 2.7922\n",
            "Epoch 445/500\n",
            "51/51 [==============================] - 0s 2ms/step - loss: 7.0430 - mae: 1.8875 - val_loss: 19.3012 - val_mae: 2.8296\n",
            "Epoch 446/500\n",
            "51/51 [==============================] - 0s 3ms/step - loss: 7.1125 - mae: 1.9009 - val_loss: 19.5504 - val_mae: 2.8419\n",
            "Epoch 447/500\n",
            "51/51 [==============================] - 0s 2ms/step - loss: 7.0925 - mae: 1.8814 - val_loss: 19.5333 - val_mae: 2.8762\n",
            "Epoch 448/500\n",
            "51/51 [==============================] - 0s 2ms/step - loss: 7.0543 - mae: 1.8762 - val_loss: 19.5456 - val_mae: 2.8057\n",
            "Epoch 449/500\n",
            "51/51 [==============================] - 0s 2ms/step - loss: 7.0687 - mae: 1.8928 - val_loss: 19.8488 - val_mae: 2.8668\n",
            "Epoch 450/500\n",
            "51/51 [==============================] - 0s 2ms/step - loss: 7.1065 - mae: 1.8967 - val_loss: 19.3238 - val_mae: 2.8059\n",
            "Epoch 451/500\n",
            "51/51 [==============================] - 0s 2ms/step - loss: 7.1431 - mae: 1.8796 - val_loss: 19.1985 - val_mae: 2.7878\n",
            "Epoch 452/500\n",
            "51/51 [==============================] - 0s 2ms/step - loss: 7.0770 - mae: 1.8807 - val_loss: 19.3378 - val_mae: 2.8676\n",
            "Epoch 453/500\n",
            "51/51 [==============================] - 0s 2ms/step - loss: 7.0308 - mae: 1.8825 - val_loss: 18.6842 - val_mae: 2.7550\n",
            "Epoch 454/500\n",
            "51/51 [==============================] - 0s 3ms/step - loss: 7.2002 - mae: 1.8874 - val_loss: 19.0832 - val_mae: 2.8062\n",
            "Epoch 455/500\n",
            "51/51 [==============================] - 0s 2ms/step - loss: 7.0779 - mae: 1.8830 - val_loss: 19.2961 - val_mae: 2.8372\n",
            "Epoch 456/500\n",
            "51/51 [==============================] - 0s 2ms/step - loss: 7.0581 - mae: 1.8893 - val_loss: 19.3239 - val_mae: 2.8148\n",
            "Epoch 457/500\n",
            "51/51 [==============================] - 0s 3ms/step - loss: 7.0646 - mae: 1.8903 - val_loss: 19.5339 - val_mae: 2.8243\n",
            "Epoch 458/500\n",
            "51/51 [==============================] - 0s 2ms/step - loss: 7.1432 - mae: 1.9011 - val_loss: 19.2822 - val_mae: 2.8067\n",
            "Epoch 459/500\n",
            "51/51 [==============================] - 0s 2ms/step - loss: 7.0398 - mae: 1.8862 - val_loss: 19.2352 - val_mae: 2.8003\n",
            "Epoch 460/500\n",
            "51/51 [==============================] - 0s 2ms/step - loss: 7.0323 - mae: 1.8909 - val_loss: 19.4777 - val_mae: 2.8526\n",
            "Epoch 461/500\n",
            "51/51 [==============================] - 0s 2ms/step - loss: 7.0731 - mae: 1.9020 - val_loss: 19.0430 - val_mae: 2.7928\n",
            "Epoch 462/500\n",
            "51/51 [==============================] - 0s 2ms/step - loss: 7.0179 - mae: 1.8872 - val_loss: 19.6263 - val_mae: 2.8703\n",
            "Epoch 463/500\n",
            "51/51 [==============================] - 0s 3ms/step - loss: 7.1313 - mae: 1.8888 - val_loss: 19.0873 - val_mae: 2.8065\n",
            "Epoch 464/500\n",
            "51/51 [==============================] - 0s 3ms/step - loss: 7.0614 - mae: 1.8807 - val_loss: 19.4762 - val_mae: 2.8629\n",
            "Epoch 465/500\n",
            "51/51 [==============================] - 0s 2ms/step - loss: 7.0274 - mae: 1.8753 - val_loss: 19.1272 - val_mae: 2.8089\n",
            "Epoch 466/500\n",
            "51/51 [==============================] - 0s 3ms/step - loss: 7.0680 - mae: 1.8882 - val_loss: 18.9884 - val_mae: 2.7942\n",
            "Epoch 467/500\n",
            "51/51 [==============================] - 0s 2ms/step - loss: 7.0369 - mae: 1.8890 - val_loss: 19.4517 - val_mae: 2.8147\n",
            "Epoch 468/500\n",
            "51/51 [==============================] - 0s 2ms/step - loss: 7.0564 - mae: 1.8831 - val_loss: 19.5172 - val_mae: 2.8334\n",
            "Epoch 469/500\n",
            "51/51 [==============================] - 0s 3ms/step - loss: 7.0511 - mae: 1.8961 - val_loss: 18.8368 - val_mae: 2.7742\n",
            "Epoch 470/500\n",
            "51/51 [==============================] - 0s 2ms/step - loss: 7.0477 - mae: 1.9032 - val_loss: 19.0025 - val_mae: 2.8051\n",
            "Epoch 471/500\n",
            "51/51 [==============================] - 0s 2ms/step - loss: 7.0428 - mae: 1.8841 - val_loss: 18.9676 - val_mae: 2.7946\n",
            "Epoch 472/500\n",
            "51/51 [==============================] - 0s 3ms/step - loss: 7.0478 - mae: 1.8828 - val_loss: 19.0658 - val_mae: 2.7754\n",
            "Epoch 473/500\n",
            "51/51 [==============================] - 0s 2ms/step - loss: 7.0655 - mae: 1.8938 - val_loss: 19.2059 - val_mae: 2.7884\n",
            "Epoch 474/500\n",
            "51/51 [==============================] - 0s 2ms/step - loss: 6.9726 - mae: 1.9022 - val_loss: 18.8842 - val_mae: 2.8031\n",
            "Epoch 475/500\n",
            "51/51 [==============================] - 0s 2ms/step - loss: 7.0466 - mae: 1.8782 - val_loss: 19.1531 - val_mae: 2.7807\n",
            "Epoch 476/500\n",
            "51/51 [==============================] - 0s 3ms/step - loss: 6.9618 - mae: 1.8957 - val_loss: 18.6128 - val_mae: 2.7645\n",
            "Epoch 477/500\n",
            "51/51 [==============================] - 0s 2ms/step - loss: 7.0768 - mae: 1.8879 - val_loss: 18.7632 - val_mae: 2.7566\n",
            "Epoch 478/500\n",
            "51/51 [==============================] - 0s 2ms/step - loss: 7.0369 - mae: 1.8959 - val_loss: 19.1641 - val_mae: 2.7760\n",
            "Epoch 479/500\n",
            "51/51 [==============================] - 0s 2ms/step - loss: 6.9805 - mae: 1.8985 - val_loss: 18.9227 - val_mae: 2.7730\n",
            "Epoch 480/500\n",
            "51/51 [==============================] - 0s 3ms/step - loss: 7.0653 - mae: 1.8780 - val_loss: 19.0486 - val_mae: 2.7863\n",
            "Epoch 481/500\n",
            "51/51 [==============================] - 0s 2ms/step - loss: 7.0309 - mae: 1.8970 - val_loss: 18.9919 - val_mae: 2.8054\n",
            "Epoch 482/500\n",
            "51/51 [==============================] - 0s 2ms/step - loss: 6.9186 - mae: 1.8763 - val_loss: 18.5851 - val_mae: 2.7832\n",
            "Epoch 483/500\n",
            "51/51 [==============================] - 0s 2ms/step - loss: 7.0199 - mae: 1.8838 - val_loss: 18.9610 - val_mae: 2.7769\n",
            "Epoch 484/500\n",
            "51/51 [==============================] - 0s 3ms/step - loss: 6.8764 - mae: 1.8692 - val_loss: 18.7717 - val_mae: 2.8056\n",
            "Epoch 485/500\n",
            "51/51 [==============================] - 0s 2ms/step - loss: 6.9871 - mae: 1.8731 - val_loss: 19.2250 - val_mae: 2.8283\n",
            "Epoch 486/500\n",
            "51/51 [==============================] - 0s 2ms/step - loss: 7.0137 - mae: 1.8804 - val_loss: 19.1585 - val_mae: 2.8030\n",
            "Epoch 487/500\n",
            "51/51 [==============================] - 0s 2ms/step - loss: 6.9764 - mae: 1.8920 - val_loss: 19.1018 - val_mae: 2.8061\n",
            "Epoch 488/500\n",
            "51/51 [==============================] - 0s 2ms/step - loss: 7.0204 - mae: 1.8652 - val_loss: 19.2395 - val_mae: 2.8171\n",
            "Epoch 489/500\n",
            "51/51 [==============================] - 0s 2ms/step - loss: 6.9967 - mae: 1.8765 - val_loss: 19.2288 - val_mae: 2.8070\n",
            "Epoch 490/500\n",
            "51/51 [==============================] - 0s 2ms/step - loss: 6.9487 - mae: 1.8793 - val_loss: 19.5255 - val_mae: 2.8087\n",
            "Epoch 491/500\n",
            "51/51 [==============================] - 0s 3ms/step - loss: 6.8698 - mae: 1.8651 - val_loss: 19.9562 - val_mae: 2.8622\n",
            "Epoch 492/500\n",
            "51/51 [==============================] - 0s 3ms/step - loss: 7.0102 - mae: 1.8773 - val_loss: 19.2712 - val_mae: 2.8088\n",
            "Epoch 493/500\n",
            "51/51 [==============================] - 0s 2ms/step - loss: 6.9781 - mae: 1.8728 - val_loss: 19.5277 - val_mae: 2.8414\n",
            "Epoch 494/500\n",
            "51/51 [==============================] - 0s 3ms/step - loss: 6.9408 - mae: 1.8641 - val_loss: 19.4292 - val_mae: 2.8315\n",
            "Epoch 495/500\n",
            "51/51 [==============================] - 0s 3ms/step - loss: 7.0145 - mae: 1.8748 - val_loss: 19.3772 - val_mae: 2.8137\n",
            "Epoch 496/500\n",
            "51/51 [==============================] - 0s 2ms/step - loss: 6.9843 - mae: 1.8726 - val_loss: 18.9990 - val_mae: 2.7898\n",
            "Epoch 497/500\n",
            "51/51 [==============================] - 0s 2ms/step - loss: 6.9867 - mae: 1.8805 - val_loss: 19.5371 - val_mae: 2.8382\n",
            "Epoch 498/500\n",
            "51/51 [==============================] - 0s 2ms/step - loss: 7.0466 - mae: 1.8701 - val_loss: 19.0818 - val_mae: 2.7964\n",
            "Epoch 499/500\n",
            "51/51 [==============================] - 0s 3ms/step - loss: 6.9626 - mae: 1.8759 - val_loss: 18.9950 - val_mae: 2.7844\n",
            "Epoch 500/500\n",
            "51/51 [==============================] - 0s 2ms/step - loss: 6.9697 - mae: 1.8786 - val_loss: 19.2618 - val_mae: 2.8558\n"
          ]
        },
        {
          "output_type": "execute_result",
          "data": {
            "text/plain": [
              "<keras.callbacks.History at 0x7f0d3b1ca050>"
            ]
          },
          "metadata": {},
          "execution_count": 21
        }
      ]
    },
    {
      "cell_type": "code",
      "source": [
        "reg_model.evaluate(test_data,test_labels)"
      ],
      "metadata": {
        "colab": {
          "base_uri": "https://localhost:8080/"
        },
        "id": "-niWwDQAsegY",
        "outputId": "f53fc6af-6806-467b-e88e-c8d5900f8c21"
      },
      "execution_count": null,
      "outputs": [
        {
          "output_type": "stream",
          "name": "stdout",
          "text": [
            "4/4 [==============================] - 0s 3ms/step - loss: 19.2618 - mae: 2.8558\n"
          ]
        },
        {
          "output_type": "execute_result",
          "data": {
            "text/plain": [
              "[19.261770248413086, 2.855782985687256]"
            ]
          },
          "metadata": {},
          "execution_count": 22
        }
      ]
    },
    {
      "cell_type": "code",
      "source": [
        "plt.plot(test_labels[:30], 'b')\n",
        "plt.plot(reg_model(test_data[:30]),'r')"
      ],
      "metadata": {
        "colab": {
          "base_uri": "https://localhost:8080/",
          "height": 282
        },
        "id": "4X-Edkedsknk",
        "outputId": "2e078b5c-db74-4558-db2e-395c7a12855c"
      },
      "execution_count": null,
      "outputs": [
        {
          "output_type": "execute_result",
          "data": {
            "text/plain": [
              "[<matplotlib.lines.Line2D at 0x7f0d3c734d90>]"
            ]
          },
          "metadata": {},
          "execution_count": 24
        },
        {
          "output_type": "display_data",
          "data": {
            "text/plain": [
              "<Figure size 432x288 with 1 Axes>"
            ],
            "image/png": "[encoded data removed]"
          },
          "metadata": {
            "needs_background": "light"
          }
        }
      ]
    }
  ]
}