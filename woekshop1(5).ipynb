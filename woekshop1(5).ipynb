{
 "cells": [
  {
   "cell_type": "markdown",
   "id": "265a709e",
   "metadata": {},
   "source": [
    "question5"
   ]
  },
  {
   "cell_type": "markdown",
   "id": "40520fe7",
   "metadata": {},
   "source": [
    "Data preprocessing without generator"
   ]
  },
  {
   "cell_type": "code",
   "execution_count": 14,
   "id": "7ca7b67a",
   "metadata": {},
   "outputs": [],
   "source": [
    "import tensorflow \n",
    "import keras  \n",
    "import os\n",
    "import glob \n",
    "from skimage import io \n",
    "import random \n",
    "import numpy as np\n",
    "import matplotlib.pyplot as plt  \n",
    "%matplotlib inline\n",
    "import cv2"
   ]
  },
  {
   "cell_type": "code",
   "execution_count": 15,
   "id": "fec7508f",
   "metadata": {
    "scrolled": true
   },
   "outputs": [
    {
     "name": "stdout",
     "output_type": "stream",
     "text": [
      "['Cloudy', 'Rain', 'Shine', 'Sunrise']\n"
     ]
    }
   ],
   "source": [
    "import os\n",
    "\n",
    "dir = \"C:/Users/Asus/.keras/datasets/weather_datasets\"\n",
    "entries = os.listdir(dir)\n",
    "print(entries)\n",
    "\n",
    "class_name = entries"
   ]
  },
  {
   "cell_type": "code",
   "execution_count": 23,
   "id": "cb720515",
   "metadata": {},
   "outputs": [
    {
     "data": {
      "text/plain": [
       "(array([], shape=(150528, 0), dtype=float32),\n",
       " array([], shape=(0, 1), dtype=float32))"
      ]
     },
     "execution_count": 23,
     "metadata": {},
     "output_type": "execute_result"
    }
   ],
   "source": [
    "base_image_size_w = 224\n",
    "base_image_size_h = 224\n",
    "base_image_size_d = 3\n",
    "data_feature_len = base_image_size_w * base_image_size_h * base_image_size_d\n",
    "\n",
    "datas = np.empty([data_feature_len, 0], dtype = np.float32)\n",
    "labels = np.empty([0, 1], dtype = np.float32)\n",
    "datas, labels"
   ]
  },
  {
   "cell_type": "code",
   "execution_count": 24,
   "id": "6c6cb6bd",
   "metadata": {},
   "outputs": [
    {
     "name": "stdout",
     "output_type": "stream",
     "text": [
      "finish current class\n",
      "finish current class\n",
      "finish current class\n",
      "finish current class\n",
      "(80,) (150528, 80)\n"
     ]
    }
   ],
   "source": [
    "import numpy as np\n",
    "import cv2\n",
    "\n",
    "\n",
    "# define variables\n",
    "base_image_size_w = 224\n",
    "base_image_size_h = 224\n",
    "base_image_size_d = 3\n",
    "data_feature_len = base_image_size_w * base_image_size_h * base_image_size_d\n",
    "\n",
    "datas = np.empty([data_feature_len, 0], dtype = np.float32)\n",
    "labels = np.empty([0, 1], dtype = np.float32)\n",
    "\n",
    "# read image - resize - reshape sa data and labels\n",
    "cnt = 0\n",
    "for f in entries:\n",
    "  imgs_name = os.listdir(dir + '/' + f)\n",
    "\n",
    "  labels = np.append(labels, np.repeat(cnt, len(imgs_name)))\n",
    "  cnt = cnt + 1\n",
    "\n",
    "  for j in imgs_name:\n",
    "    img = cv2.imread(dir +'/'+ f + '/' + j)\n",
    "     \n",
    "    img = cv2.resize(img, (base_image_size_w, base_image_size_h))\n",
    "    img = np.reshape(img, (data_feature_len, -1))\n",
    "    datas = np.append(datas, img, axis=1)\n",
    "  print(\"finish current class\")\n",
    "\n",
    "print(labels.shape, datas.shape)"
   ]
  },
  {
   "cell_type": "code",
   "execution_count": 25,
   "id": "6ac13bc2",
   "metadata": {},
   "outputs": [],
   "source": [
    "datas = np.transpose(datas, (1, 0))"
   ]
  },
  {
   "cell_type": "code",
   "execution_count": 26,
   "id": "9c439879",
   "metadata": {},
   "outputs": [
    {
     "data": {
      "text/plain": [
       "array([[126., 126., 126., ...,  54.,  54.,  54.],\n",
       "       [222., 191., 176., ..., 169., 143., 113.],\n",
       "       [179., 174., 175., ...,  72., 153., 126.],\n",
       "       ...,\n",
       "       [ 66.,  75., 132., ...,  75.,  63.,  45.],\n",
       "       [ 39.,  41.,  83., ...,  39.,  43.,  78.],\n",
       "       [ 39.,  25.,  37., ...,  38.,  38.,  50.]], dtype=float32)"
      ]
     },
     "execution_count": 26,
     "metadata": {},
     "output_type": "execute_result"
    }
   ],
   "source": [
    "datas"
   ]
  },
  {
   "cell_type": "code",
   "execution_count": 27,
   "id": "373a3a4b",
   "metadata": {},
   "outputs": [
    {
     "data": {
      "text/plain": [
       "array([[0.],\n",
       "       [0.],\n",
       "       [0.],\n",
       "       [0.],\n",
       "       [0.],\n",
       "       [0.],\n",
       "       [0.],\n",
       "       [0.],\n",
       "       [0.],\n",
       "       [0.],\n",
       "       [0.],\n",
       "       [0.],\n",
       "       [0.],\n",
       "       [0.],\n",
       "       [0.],\n",
       "       [0.],\n",
       "       [0.],\n",
       "       [0.],\n",
       "       [0.],\n",
       "       [0.],\n",
       "       [1.],\n",
       "       [1.],\n",
       "       [1.],\n",
       "       [1.],\n",
       "       [1.],\n",
       "       [1.],\n",
       "       [1.],\n",
       "       [1.],\n",
       "       [1.],\n",
       "       [1.],\n",
       "       [1.],\n",
       "       [1.],\n",
       "       [1.],\n",
       "       [1.],\n",
       "       [1.],\n",
       "       [1.],\n",
       "       [1.],\n",
       "       [1.],\n",
       "       [1.],\n",
       "       [1.],\n",
       "       [2.],\n",
       "       [2.],\n",
       "       [2.],\n",
       "       [2.],\n",
       "       [2.],\n",
       "       [2.],\n",
       "       [2.],\n",
       "       [2.],\n",
       "       [2.],\n",
       "       [2.],\n",
       "       [2.],\n",
       "       [2.],\n",
       "       [2.],\n",
       "       [2.],\n",
       "       [2.],\n",
       "       [2.],\n",
       "       [2.],\n",
       "       [2.],\n",
       "       [2.],\n",
       "       [2.],\n",
       "       [3.],\n",
       "       [3.],\n",
       "       [3.],\n",
       "       [3.],\n",
       "       [3.],\n",
       "       [3.],\n",
       "       [3.],\n",
       "       [3.],\n",
       "       [3.],\n",
       "       [3.],\n",
       "       [3.],\n",
       "       [3.],\n",
       "       [3.],\n",
       "       [3.],\n",
       "       [3.],\n",
       "       [3.],\n",
       "       [3.],\n",
       "       [3.],\n",
       "       [3.],\n",
       "       [3.]])"
      ]
     },
     "execution_count": 27,
     "metadata": {},
     "output_type": "execute_result"
    }
   ],
   "source": [
    "# data reshape\n",
    "labels = np.reshape(labels, (labels.shape[0], -1))\n",
    "labels"
   ]
  },
  {
   "cell_type": "code",
   "execution_count": 29,
   "id": "04ab8073",
   "metadata": {
    "scrolled": true
   },
   "outputs": [
    {
     "name": "stdout",
     "output_type": "stream",
     "text": [
      "(80, 150528) (80, 1)\n"
     ]
    }
   ],
   "source": [
    "print(datas.shape, labels.shape)"
   ]
  },
  {
   "cell_type": "code",
   "execution_count": 30,
   "id": "b2cf2c98",
   "metadata": {},
   "outputs": [],
   "source": [
    "# split data to train and test\n",
    "from sklearn.model_selection import train_test_split\n",
    "\n",
    "X_train, X_test, y_train, y_test = train_test_split(datas, labels, test_size=0.33, random_state=42)"
   ]
  },
  {
   "cell_type": "code",
   "execution_count": 31,
   "id": "11cf1ddf",
   "metadata": {},
   "outputs": [
    {
     "data": {
      "text/plain": [
       "((53, 150528), (27, 150528), (53, 1), (27, 1))"
      ]
     },
     "execution_count": 31,
     "metadata": {},
     "output_type": "execute_result"
    }
   ],
   "source": [
    "X_train.shape, X_test.shape, y_train.shape, y_test.shape"
   ]
  },
  {
   "cell_type": "code",
   "execution_count": 32,
   "id": "4a1e38e3",
   "metadata": {},
   "outputs": [],
   "source": [
    "# one hot encoding\n",
    "from tensorflow.keras.utils import to_categorical\n",
    "\n",
    "y_train = to_categorical(y_train, num_classes=len(np.unique(labels)))\n",
    "y_test = to_categorical(y_test, num_classes=len(np.unique(labels)))"
   ]
  },
  {
   "cell_type": "code",
   "execution_count": 33,
   "id": "0571032e",
   "metadata": {},
   "outputs": [
    {
     "data": {
      "text/plain": [
       "(array([[0., 0., 1., 0.],\n",
       "        [1., 0., 0., 0.],\n",
       "        [0., 1., 0., 0.],\n",
       "        [0., 0., 1., 0.],\n",
       "        [0., 0., 0., 1.],\n",
       "        [1., 0., 0., 0.],\n",
       "        [0., 0., 1., 0.],\n",
       "        [0., 0., 1., 0.],\n",
       "        [1., 0., 0., 0.],\n",
       "        [0., 0., 0., 1.],\n",
       "        [0., 1., 0., 0.],\n",
       "        [0., 0., 1., 0.],\n",
       "        [1., 0., 0., 0.],\n",
       "        [0., 0., 0., 1.],\n",
       "        [1., 0., 0., 0.],\n",
       "        [1., 0., 0., 0.],\n",
       "        [0., 1., 0., 0.],\n",
       "        [1., 0., 0., 0.],\n",
       "        [0., 0., 0., 1.],\n",
       "        [1., 0., 0., 0.],\n",
       "        [0., 1., 0., 0.],\n",
       "        [0., 0., 0., 1.],\n",
       "        [0., 0., 1., 0.],\n",
       "        [0., 0., 1., 0.],\n",
       "        [0., 0., 0., 1.],\n",
       "        [1., 0., 0., 0.],\n",
       "        [0., 1., 0., 0.],\n",
       "        [0., 0., 1., 0.],\n",
       "        [0., 1., 0., 0.],\n",
       "        [0., 0., 1., 0.],\n",
       "        [0., 1., 0., 0.],\n",
       "        [0., 0., 1., 0.],\n",
       "        [0., 0., 0., 1.],\n",
       "        [0., 0., 1., 0.],\n",
       "        [1., 0., 0., 0.],\n",
       "        [0., 1., 0., 0.],\n",
       "        [0., 0., 0., 1.],\n",
       "        [0., 0., 1., 0.],\n",
       "        [0., 0., 0., 1.],\n",
       "        [0., 0., 0., 1.],\n",
       "        [0., 1., 0., 0.],\n",
       "        [0., 1., 0., 0.],\n",
       "        [1., 0., 0., 0.],\n",
       "        [0., 0., 1., 0.],\n",
       "        [0., 1., 0., 0.],\n",
       "        [1., 0., 0., 0.],\n",
       "        [0., 1., 0., 0.],\n",
       "        [0., 0., 0., 1.],\n",
       "        [0., 1., 0., 0.],\n",
       "        [0., 0., 0., 1.],\n",
       "        [0., 0., 0., 1.],\n",
       "        [1., 0., 0., 0.],\n",
       "        [0., 0., 1., 0.]], dtype=float32),\n",
       " array([[0., 1., 0., 0.],\n",
       "        [1., 0., 0., 0.],\n",
       "        [0., 1., 0., 0.],\n",
       "        [0., 1., 0., 0.],\n",
       "        [1., 0., 0., 0.],\n",
       "        [0., 1., 0., 0.],\n",
       "        [1., 0., 0., 0.],\n",
       "        [0., 0., 0., 1.],\n",
       "        [1., 0., 0., 0.],\n",
       "        [1., 0., 0., 0.],\n",
       "        [0., 0., 1., 0.],\n",
       "        [0., 1., 0., 0.],\n",
       "        [0., 0., 0., 1.],\n",
       "        [0., 1., 0., 0.],\n",
       "        [0., 0., 0., 1.],\n",
       "        [0., 0., 1., 0.],\n",
       "        [0., 0., 0., 1.],\n",
       "        [0., 0., 0., 1.],\n",
       "        [0., 0., 1., 0.],\n",
       "        [0., 0., 1., 0.],\n",
       "        [1., 0., 0., 0.],\n",
       "        [0., 0., 0., 1.],\n",
       "        [1., 0., 0., 0.],\n",
       "        [0., 0., 1., 0.],\n",
       "        [0., 1., 0., 0.],\n",
       "        [0., 0., 0., 1.],\n",
       "        [0., 0., 1., 0.]], dtype=float32))"
      ]
     },
     "execution_count": 33,
     "metadata": {},
     "output_type": "execute_result"
    }
   ],
   "source": [
    "y_train, y_test"
   ]
  },
  {
   "cell_type": "code",
   "execution_count": 34,
   "id": "dd6116ed",
   "metadata": {},
   "outputs": [
    {
     "data": {
      "text/plain": [
       "((27, 4), (53, 4))"
      ]
     },
     "execution_count": 34,
     "metadata": {},
     "output_type": "execute_result"
    }
   ],
   "source": [
    "y_test.shape, y_train.shape"
   ]
  },
  {
   "cell_type": "code",
   "execution_count": 35,
   "id": "bebb8351",
   "metadata": {},
   "outputs": [
    {
     "name": "stdout",
     "output_type": "stream",
     "text": [
      "255.0 0.0\n"
     ]
    }
   ],
   "source": [
    "print(np.max(X_train), np.min(X_test))"
   ]
  },
  {
   "cell_type": "code",
   "execution_count": 36,
   "id": "e5ace402",
   "metadata": {},
   "outputs": [],
   "source": [
    "# data normalization\n",
    "X_train  = X_train.astype(np.float32) / 255.\n",
    "X_test = X_test.astype(np.float32) / 255."
   ]
  },
  {
   "cell_type": "code",
   "execution_count": 37,
   "id": "c68c372a",
   "metadata": {},
   "outputs": [
    {
     "name": "stdout",
     "output_type": "stream",
     "text": [
      "1.0 0.0\n"
     ]
    }
   ],
   "source": [
    "print(np.max(X_train), np.min(X_test))"
   ]
  },
  {
   "cell_type": "code",
   "execution_count": 38,
   "id": "7317b6ef",
   "metadata": {},
   "outputs": [
    {
     "name": "stdout",
     "output_type": "stream",
     "text": [
      "(53, 150528) (27, 150528) (53, 4) (27, 4)\n",
      "float32 float32 float32 float32\n"
     ]
    }
   ],
   "source": [
    "print(X_train.shape, X_test.shape, y_train.shape, y_test.shape)\n",
    "print(X_train.dtype, X_test.dtype, y_train.dtype, y_test.dtype)"
   ]
  },
  {
   "cell_type": "code",
   "execution_count": 39,
   "id": "f77c884c",
   "metadata": {},
   "outputs": [],
   "source": [
    "from tensorflow.keras.models import Model\n",
    "from tensorflow.keras.layers import Input, Dense, Dropout\n",
    "from tensorflow.keras.regularizers import l2"
   ]
  },
  {
   "cell_type": "code",
   "execution_count": 40,
   "id": "c2572168",
   "metadata": {},
   "outputs": [],
   "source": [
    "input_layer = Input((X_train.shape[1], )) # batch_size=16)\n",
    "\n",
    "x = Dense(units=512, activation=\"relu\", kernel_regularizer=l2(0.01), bias_regularizer=l2(0.01))(input_layer)\n",
    "x = Dense(units=256, activation=\"relu\", kernel_regularizer=l2(0.01), bias_regularizer=l2(0.01))(x)\n",
    "x = Dense(units=128, activation=\"relu\", kernel_regularizer=l2(0.01), bias_regularizer=l2(0.01))(x)\n",
    "\n",
    "output_layer = Dense(units=y_train.shape[1], activation=\"softmax\")(x)"
   ]
  },
  {
   "cell_type": "code",
   "execution_count": 41,
   "id": "a5edf7b7",
   "metadata": {},
   "outputs": [],
   "source": [
    "classification_model = Model(input_layer, output_layer)"
   ]
  },
  {
   "cell_type": "code",
   "execution_count": 42,
   "id": "be225c3a",
   "metadata": {},
   "outputs": [
    {
     "name": "stdout",
     "output_type": "stream",
     "text": [
      "('You must install pydot (`pip install pydot`) and install graphviz (see instructions at https://graphviz.gitlab.io/download/) ', 'for plot_model/model_to_dot to work.')\n"
     ]
    }
   ],
   "source": [
    "from tensorflow.keras.utils import plot_model\n",
    "\n",
    "plot_model(classification_model,show_shapes=True, show_layer_names=True, )"
   ]
  },
  {
   "cell_type": "code",
   "execution_count": 43,
   "id": "660c1fbb",
   "metadata": {},
   "outputs": [],
   "source": [
    "from tensorflow.keras.optimizers import SGD, Adam\n",
    "\n",
    "# loss function (different with regression)\n",
    "classification_model.compile(optimizer=SGD(0.01, momentum=0.9),\n",
    "                             loss='categorical_crossentropy', metrics=['categorical_accuracy'])"
   ]
  },
  {
   "cell_type": "code",
   "execution_count": 44,
   "id": "6f6d27f8",
   "metadata": {},
   "outputs": [
    {
     "name": "stdout",
     "output_type": "stream",
     "text": [
      "Epoch 1/5\n",
      "WARNING:tensorflow:AutoGraph could not transform <function Model.make_train_function.<locals>.train_function at 0x000002609116A438> and will run it as-is.\n",
      "Please report this to the TensorFlow team. When filing the bug, set the verbosity to 10 (on Linux, `export AUTOGRAPH_VERBOSITY=10`) and attach the full output.\n",
      "Cause: 'arguments' object has no attribute 'posonlyargs'\n",
      "To silence this warning, decorate the function with @tf.autograph.experimental.do_not_convert\n",
      "WARNING: AutoGraph could not transform <function Model.make_train_function.<locals>.train_function at 0x000002609116A438> and will run it as-is.\n",
      "Please report this to the TensorFlow team. When filing the bug, set the verbosity to 10 (on Linux, `export AUTOGRAPH_VERBOSITY=10`) and attach the full output.\n",
      "Cause: 'arguments' object has no attribute 'posonlyargs'\n",
      "To silence this warning, decorate the function with @tf.autograph.experimental.do_not_convert\n",
      "2/2 [==============================] - ETA: 0s - loss: 18.2324 - categorical_accuracy: 0.2264WARNING:tensorflow:Early stopping conditioned on metric `val_accuracy` which is not available. Available metrics are: loss,categorical_accuracy\n",
      "2/2 [==============================] - 3s 821ms/step - loss: 18.2324 - categorical_accuracy: 0.2264\n",
      "Epoch 2/5\n",
      "2/2 [==============================] - ETA: 0s - loss: 38.0668 - categorical_accuracy: 0.3208WARNING:tensorflow:Early stopping conditioned on metric `val_accuracy` which is not available. Available metrics are: loss,categorical_accuracy\n",
      "2/2 [==============================] - 2s 746ms/step - loss: 38.0668 - categorical_accuracy: 0.3208\n",
      "Epoch 3/5\n",
      "2/2 [==============================] - ETA: 0s - loss: 42.2937 - categorical_accuracy: 0.3019WARNING:tensorflow:Early stopping conditioned on metric `val_accuracy` which is not available. Available metrics are: loss,categorical_accuracy\n",
      "2/2 [==============================] - 2s 744ms/step - loss: 42.2937 - categorical_accuracy: 0.3019\n",
      "Epoch 4/5\n",
      "2/2 [==============================] - ETA: 0s - loss: 75.2763 - categorical_accuracy: 0.2264 WARNING:tensorflow:Early stopping conditioned on metric `val_accuracy` which is not available. Available metrics are: loss,categorical_accuracy\n",
      "2/2 [==============================] - 2s 1s/step - loss: 75.2763 - categorical_accuracy: 0.2264\n",
      "Epoch 5/5\n",
      "2/2 [==============================] - ETA: 0s - loss: 50.2206 - categorical_accuracy: 0.3208WARNING:tensorflow:Early stopping conditioned on metric `val_accuracy` which is not available. Available metrics are: loss,categorical_accuracy\n",
      "2/2 [==============================] - 2s 821ms/step - loss: 50.2206 - categorical_accuracy: 0.3208\n"
     ]
    },
    {
     "data": {
      "text/plain": [
       "<keras.callbacks.History at 0x260a27f8348>"
      ]
     },
     "execution_count": 44,
     "metadata": {},
     "output_type": "execute_result"
    }
   ],
   "source": [
    "import tensorflow as tf\n",
    "early_stop = tf.keras.callbacks.EarlyStopping(monitor='val_accuracy', patience=5, mode='max', restore_best_weights=True)\n",
    "\n",
    "classification_model.fit(x=X_train, y=y_train, batch_size=32, epochs=5, callbacks=[early_stop])"
   ]
  },
  {
   "cell_type": "code",
   "execution_count": 45,
   "id": "b51a1152",
   "metadata": {},
   "outputs": [
    {
     "data": {
      "text/plain": [
       "<AxesSubplot:>"
      ]
     },
     "execution_count": 45,
     "metadata": {},
     "output_type": "execute_result"
    },
    {
     "data": {
      "image/png": "[encoded data removed]",
      "text/plain": [
       "<Figure size 432x288 with 1 Axes>"
      ]
     },
     "metadata": {
      "needs_background": "light"
     },
     "output_type": "display_data"
    }
   ],
   "source": [
    "# plot model history\n",
    "import pandas as pd\n",
    "\n",
    "\n",
    "history = pd.DataFrame(classification_model.history.history)\n",
    "history.plot()"
   ]
  },
  {
   "cell_type": "code",
   "execution_count": 46,
   "id": "22002b78",
   "metadata": {
    "scrolled": true
   },
   "outputs": [
    {
     "name": "stdout",
     "output_type": "stream",
     "text": [
      "WARNING:tensorflow:AutoGraph could not transform <function Model.make_test_function.<locals>.test_function at 0x0000026092AD8708> and will run it as-is.\n",
      "Please report this to the TensorFlow team. When filing the bug, set the verbosity to 10 (on Linux, `export AUTOGRAPH_VERBOSITY=10`) and attach the full output.\n",
      "Cause: 'arguments' object has no attribute 'posonlyargs'\n",
      "To silence this warning, decorate the function with @tf.autograph.experimental.do_not_convert\n",
      "WARNING: AutoGraph could not transform <function Model.make_test_function.<locals>.test_function at 0x0000026092AD8708> and will run it as-is.\n",
      "Please report this to the TensorFlow team. When filing the bug, set the verbosity to 10 (on Linux, `export AUTOGRAPH_VERBOSITY=10`) and attach the full output.\n",
      "Cause: 'arguments' object has no attribute 'posonlyargs'\n",
      "To silence this warning, decorate the function with @tf.autograph.experimental.do_not_convert\n",
      "accuracy :  22.22\n"
     ]
    }
   ],
   "source": [
    "result = classification_model.evaluate(X_test, y_test, batch_size=32,verbose=0)\n",
    "print('accuracy : ', np.round(result[1]*100, 2))"
   ]
  }
 ],
 "metadata": {
  "kernelspec": {
   "display_name": "Python 3 (ipykernel)",
   "language": "python",
   "name": "python3"
  },
  "language_info": {
   "codemirror_mode": {
    "name": "ipython",
    "version": 3
   },
   "file_extension": ".py",
   "mimetype": "text/x-python",
   "name": "python",
   "nbconvert_exporter": "python",
   "pygments_lexer": "ipython3",
   "version": "3.7.11"
  }
 },
 "nbformat": 4,
 "nbformat_minor": 5
}
