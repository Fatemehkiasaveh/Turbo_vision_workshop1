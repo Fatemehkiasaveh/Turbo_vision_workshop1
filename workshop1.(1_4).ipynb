{
 "cells": [
  {
   "cell_type": "code",
   "execution_count": 1,
   "id": "152664fe",
   "metadata": {},
   "outputs": [],
   "source": [
    "import tensorflow as tf\n",
    "import numpy as np\n",
    "import pandas as pd\n",
    "import matplotlib.pyplot as plt\n",
    "import random"
   ]
  },
  {
   "cell_type": "markdown",
   "id": "1c0cdcbc",
   "metadata": {},
   "source": [
    "first_question"
   ]
  },
  {
   "cell_type": "code",
   "execution_count": 2,
   "id": "b8d362ec",
   "metadata": {},
   "outputs": [
    {
     "name": "stdout",
     "output_type": "stream",
     "text": [
      "['fatemeh']\n"
     ]
    }
   ],
   "source": [
    "names_arr=np.array(['mamad', 'ali', 'fatemeh',' hossein'])\n",
    "\n",
    "def lottery(names): \n",
    "        index = np.random.randint(0,4,1)\n",
    "        print(names[index])\n",
    "        \n",
    "lottery(names_arr)"
   ]
  },
  {
   "cell_type": "code",
   "execution_count": 3,
   "id": "ced09415",
   "metadata": {},
   "outputs": [
    {
     "data": {
      "text/plain": [
       "['ali']"
      ]
     },
     "execution_count": 3,
     "metadata": {},
     "output_type": "execute_result"
    }
   ],
   "source": [
    "names = ['mamad', 'ali', 'fatemeh',' hossein']\n",
    "weights_names = [20, 20, 10, 50]\n",
    "\n",
    "def weighted_random_choice(names, weights_names):\n",
    "    \n",
    "    return(random.choices(names, weights=weights_names, k=1))\n",
    "\n",
    "weighted_random_choice(names, weights_names)   "
   ]
  },
  {
   "cell_type": "markdown",
   "id": "77d9168b",
   "metadata": {},
   "source": [
    "second_question"
   ]
  },
  {
   "cell_type": "code",
   "execution_count": 5,
   "id": "e9f74fcb",
   "metadata": {
    "scrolled": true
   },
   "outputs": [],
   "source": [
    "from PIL import Image"
   ]
  },
  {
   "cell_type": "code",
   "execution_count": 6,
   "id": "6387d737",
   "metadata": {},
   "outputs": [
    {
     "data": {
      "image/png": "[encoded data removed]",
      "text/plain": [
       "<PIL.Image.Image image mode=RGB size=300x300 at 0x261050CE288>"
      ]
     },
     "metadata": {},
     "output_type": "display_data"
    }
   ],
   "source": [
    "w, h = 12, 12\n",
    "img = Image.new(\"RGB\",(w,h))\n",
    "pixels = img.load()\n",
    "\n",
    "for i in range(w):\n",
    "    for j in range(h):\n",
    "        if (i+j)%2:\n",
    "            pixels[i,j] = (255,255,255)\n",
    "            \n",
    "img = img.resize((25*w,25*h), Image.NEAREST)\n",
    "img.save(\"chessboard.png\")\n",
    "display(img)\n",
    "    \n",
    "    \n",
    "    "
   ]
  },
  {
   "cell_type": "markdown",
   "id": "254a0a33",
   "metadata": {},
   "source": [
    "third_question"
   ]
  },
  {
   "cell_type": "code",
   "execution_count": 7,
   "id": "8e447fa1",
   "metadata": {},
   "outputs": [
    {
     "data": {
      "text/plain": [
       "[0, 1, 1, 2, 3, 5, 8, 13, 21, 34, 55, 89]"
      ]
     },
     "execution_count": 7,
     "metadata": {},
     "output_type": "execute_result"
    }
   ],
   "source": [
    "def Fibonacci(n):\n",
    "    \n",
    "    if n<0:\n",
    "        print(\"Incorrect input\")\n",
    "        \n",
    "    elif n==0:\n",
    "        return 0\n",
    "    \n",
    "    elif n==1:\n",
    "        return 1\n",
    "    \n",
    "    else:\n",
    "         return Fibonacci(n-1)+Fibonacci(n-2)        \n",
    "\n",
    "input = 12\n",
    "[Fibonacci(n) for n in range(input)]"
   ]
  },
  {
   "cell_type": "markdown",
   "id": "8576299c",
   "metadata": {},
   "source": [
    "forth_question"
   ]
  },
  {
   "cell_type": "code",
   "execution_count": 7,
   "id": "5e47a3e1",
   "metadata": {},
   "outputs": [
    {
     "data": {
      "text/plain": [
       "'SAVINGS'"
      ]
     },
     "execution_count": 7,
     "metadata": {},
     "output_type": "execute_result"
    }
   ],
   "source": [
    "from enum import Enum\n",
    "\n",
    "class AccountType(Enum):\n",
    "    \n",
    "    SAVINGS = 1\n",
    "    CHECKING = 2\n",
    "    \n",
    "AccountType.SAVINGS\n",
    "AccountType.SAVINGS.name\n"
   ]
  },
  {
   "cell_type": "code",
   "execution_count": 8,
   "id": "6ca6fa70",
   "metadata": {},
   "outputs": [
    {
     "name": "stdout",
     "output_type": "stream",
     "text": [
      "0\n",
      "Saveh\n"
     ]
    }
   ],
   "source": [
    "class BankAccount():\n",
    "    \n",
    "    \n",
    "    def __init__(self,owner,accountType):\n",
    "        \n",
    "        self.owner = owner\n",
    "        self.accountType = accountType\n",
    "        self.balance = 0\n",
    "        \n",
    "    def withdraw(self,amount):\n",
    "        \n",
    "        if amount<0:\n",
    "            raise ValueError(\"amount<0\")\n",
    "        if self.balance < amount:\n",
    "            raise ValueError(\"withdraw more than balance\")\n",
    "        self.balance -= amount\n",
    "        \n",
    "    def deposit(self,amount):\n",
    "        \n",
    "        if amount<0:\n",
    "            raise ValueError(\"amount<0\")\n",
    "        self.balance += amount\n",
    "        \n",
    "    def __str__(self):\n",
    "        \n",
    "        return \"owner:{!s} account type:{!s}\".format(self.owner,self.accountType.name)\n",
    "    \n",
    "    def __len__(self):\n",
    "        \n",
    "        return self.balance\n",
    "          \n",
    "myaccount = BankAccount(\"Saveh\",AccountType.CHECKING) \n",
    "print(myaccount.balance)\n",
    "print(myaccount.owner)"
   ]
  }
 ],
 "metadata": {
  "kernelspec": {
   "display_name": "Python 3 (ipykernel)",
   "language": "python",
   "name": "python3"
  },
  "language_info": {
   "codemirror_mode": {
    "name": "ipython",
    "version": 3
   },
   "file_extension": ".py",
   "mimetype": "text/x-python",
   "name": "python",
   "nbconvert_exporter": "python",
   "pygments_lexer": "ipython3",
   "version": "3.7.11"
  }
 },
 "nbformat": 4,
 "nbformat_minor": 5
}
